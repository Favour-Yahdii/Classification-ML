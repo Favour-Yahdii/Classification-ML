{
 "cells": [
  {
   "cell_type": "markdown",
   "id": "db81972c",
   "metadata": {},
   "source": [
    "### Challenge\n",
    "Problem Statement: The purpose of this analysis is to use various features from skin thickness to history of previous disease to detect whether a patient has Diabetes or not. We would use Decision Tree classifier, logistic regression as well as SVM models for the prediction."
   ]
  },
  {
   "cell_type": "markdown",
   "id": "e8c38227",
   "metadata": {},
   "source": [
    "### Preliminary Exploration (EDA)\n",
    "Exploratory Analysis of data aims to investigate datasets before modelling and prediction to discover patterns and assumptions."
   ]
  },
  {
   "cell_type": "markdown",
   "id": "28698f96",
   "metadata": {},
   "source": [
    "#### Column Descriptors\n",
    "- 'Pregnancies' is the number of pregnancies to date.\n",
    "\n",
    "- 'Glucose' is is the plasma glucose concentration over 2 hours in an oral glucose tolerance test, measured in milligrams per decilitre (mg/dL). A blood sugar level less than 140 mg/dL is normal. A reading of more than 200 mg/dL indicates diabetes, whereas that between 140 and 199 mg/dL indicates prediabetes. \n",
    "\n",
    "- 'BloodPressure' is the diastolic blood pressure, measured in millimeters of mercury (mm Hg). A normal blood pressure would have a reading of less than 80 mmHg, and this may vary from 90 to 120 mmHg for a healthy young person. A reading of more than 140 mmHg indicates high blood pressure.\n",
    "\n",
    "- 'SkinThickness' is the triceps skin fold thickness, measured in millimeters (mm). \n",
    "\n",
    "- 'Insulin' is the 2-hour serum insulin, measured in micrometre units per millilitre (mu U/ml). \n",
    "\n",
    "- 'BMI' is the body mass index (BMI) for weight in kg and height in m (kg/m^2). \n",
    "\n",
    "- 'DiabetesPedigreeFunction' is a function that scores likelihood of diabetes based on family history. \n",
    "\n",
    "- 'Age' in years has a realistic range of 21 to 81.\n",
    "\n",
    "- 'Outcome' is the target class label, where 0 represents absence and 1 represents presence of diabetes.\n"
   ]
  },
  {
   "cell_type": "code",
   "execution_count": 55,
   "id": "5fe844a1",
   "metadata": {},
   "outputs": [],
   "source": [
    "import warnings\n",
    "warnings.filterwarnings('ignore')"
   ]
  },
  {
   "cell_type": "code",
   "execution_count": 56,
   "id": "53ce1888",
   "metadata": {},
   "outputs": [],
   "source": [
    "import os \n",
    "os.chdir ('C:\\\\Users\\\\Yahdii\\\\OneDrive\\\\Tech4Dev')"
   ]
  },
  {
   "cell_type": "code",
   "execution_count": 57,
   "id": "0f454ebb",
   "metadata": {},
   "outputs": [
    {
     "data": {
      "text/plain": [
       "'C:\\\\Users\\\\Yahdii\\\\OneDrive\\\\Tech4Dev'"
      ]
     },
     "execution_count": 57,
     "metadata": {},
     "output_type": "execute_result"
    }
   ],
   "source": [
    "pwd"
   ]
  },
  {
   "cell_type": "code",
   "execution_count": 58,
   "id": "89f45eb5",
   "metadata": {},
   "outputs": [],
   "source": [
    "#Import necessary libraries for preliminary exploration\n",
    "import pandas as pd\n",
    "import numpy as np\n",
    "import matplotlib.pyplot as plt\n",
    "import seaborn as sns\n",
    "%matplotlib inline"
   ]
  },
  {
   "cell_type": "code",
   "execution_count": 59,
   "id": "db2ee3c6",
   "metadata": {},
   "outputs": [],
   "source": [
    "#read in the data\n",
    "df = pd.read_csv('diabetes_data.csv')"
   ]
  },
  {
   "cell_type": "code",
   "execution_count": 60,
   "id": "c5113cc4",
   "metadata": {
    "scrolled": true
   },
   "outputs": [
    {
     "name": "stdout",
     "output_type": "stream",
     "text": [
      "<class 'pandas.core.frame.DataFrame'>\n",
      "RangeIndex: 768 entries, 0 to 767\n",
      "Data columns (total 9 columns):\n",
      " #   Column                    Non-Null Count  Dtype  \n",
      "---  ------                    --------------  -----  \n",
      " 0   Pregnancies               768 non-null    int64  \n",
      " 1   Glucose                   768 non-null    int64  \n",
      " 2   BloodPressure             768 non-null    int64  \n",
      " 3   SkinThickness             768 non-null    int64  \n",
      " 4   Insulin                   768 non-null    int64  \n",
      " 5   BMI                       768 non-null    float64\n",
      " 6   DiabetesPedigreeFunction  768 non-null    float64\n",
      " 7   Age                       768 non-null    int64  \n",
      " 8   Outcome                   768 non-null    int64  \n",
      "dtypes: float64(2), int64(7)\n",
      "memory usage: 54.1 KB\n"
     ]
    }
   ],
   "source": [
    "#info about the data set\n",
    "df.info()"
   ]
  },
  {
   "cell_type": "markdown",
   "id": "d935fb8c",
   "metadata": {},
   "source": [
    "- We have 9 columns namely; Pregnancies,Glucose,Blood PRessure, Skin Thickness, Insulin, BMI, Diabetes Pedigree Function, Age and the target which is Outcome. Of the 9 variables, 7 are integer columns, 2 are float columns. The dataset has a total of 768 observations.\n",
    "- The dataset contains no null values."
   ]
  },
  {
   "cell_type": "code",
   "execution_count": 61,
   "id": "74ee5e4f",
   "metadata": {
    "scrolled": false
   },
   "outputs": [
    {
     "data": {
      "text/html": [
       "<div>\n",
       "<style scoped>\n",
       "    .dataframe tbody tr th:only-of-type {\n",
       "        vertical-align: middle;\n",
       "    }\n",
       "\n",
       "    .dataframe tbody tr th {\n",
       "        vertical-align: top;\n",
       "    }\n",
       "\n",
       "    .dataframe thead th {\n",
       "        text-align: right;\n",
       "    }\n",
       "</style>\n",
       "<table border=\"1\" class=\"dataframe\">\n",
       "  <thead>\n",
       "    <tr style=\"text-align: right;\">\n",
       "      <th></th>\n",
       "      <th>Pregnancies</th>\n",
       "      <th>Glucose</th>\n",
       "      <th>BloodPressure</th>\n",
       "      <th>SkinThickness</th>\n",
       "      <th>Insulin</th>\n",
       "      <th>BMI</th>\n",
       "      <th>DiabetesPedigreeFunction</th>\n",
       "      <th>Age</th>\n",
       "      <th>Outcome</th>\n",
       "    </tr>\n",
       "  </thead>\n",
       "  <tbody>\n",
       "    <tr>\n",
       "      <th>count</th>\n",
       "      <td>768.000000</td>\n",
       "      <td>768.000000</td>\n",
       "      <td>768.000000</td>\n",
       "      <td>768.000000</td>\n",
       "      <td>768.000000</td>\n",
       "      <td>768.000000</td>\n",
       "      <td>768.000000</td>\n",
       "      <td>768.000000</td>\n",
       "      <td>768.000000</td>\n",
       "    </tr>\n",
       "    <tr>\n",
       "      <th>mean</th>\n",
       "      <td>3.845052</td>\n",
       "      <td>120.894531</td>\n",
       "      <td>69.105469</td>\n",
       "      <td>20.536458</td>\n",
       "      <td>79.799479</td>\n",
       "      <td>31.992578</td>\n",
       "      <td>0.471876</td>\n",
       "      <td>33.240885</td>\n",
       "      <td>0.348958</td>\n",
       "    </tr>\n",
       "    <tr>\n",
       "      <th>std</th>\n",
       "      <td>3.369578</td>\n",
       "      <td>31.972618</td>\n",
       "      <td>19.355807</td>\n",
       "      <td>15.952218</td>\n",
       "      <td>115.244002</td>\n",
       "      <td>7.884160</td>\n",
       "      <td>0.331329</td>\n",
       "      <td>11.760232</td>\n",
       "      <td>0.476951</td>\n",
       "    </tr>\n",
       "    <tr>\n",
       "      <th>min</th>\n",
       "      <td>0.000000</td>\n",
       "      <td>0.000000</td>\n",
       "      <td>0.000000</td>\n",
       "      <td>0.000000</td>\n",
       "      <td>0.000000</td>\n",
       "      <td>0.000000</td>\n",
       "      <td>0.078000</td>\n",
       "      <td>21.000000</td>\n",
       "      <td>0.000000</td>\n",
       "    </tr>\n",
       "    <tr>\n",
       "      <th>25%</th>\n",
       "      <td>1.000000</td>\n",
       "      <td>99.000000</td>\n",
       "      <td>62.000000</td>\n",
       "      <td>0.000000</td>\n",
       "      <td>0.000000</td>\n",
       "      <td>27.300000</td>\n",
       "      <td>0.243750</td>\n",
       "      <td>24.000000</td>\n",
       "      <td>0.000000</td>\n",
       "    </tr>\n",
       "    <tr>\n",
       "      <th>50%</th>\n",
       "      <td>3.000000</td>\n",
       "      <td>117.000000</td>\n",
       "      <td>72.000000</td>\n",
       "      <td>23.000000</td>\n",
       "      <td>30.500000</td>\n",
       "      <td>32.000000</td>\n",
       "      <td>0.372500</td>\n",
       "      <td>29.000000</td>\n",
       "      <td>0.000000</td>\n",
       "    </tr>\n",
       "    <tr>\n",
       "      <th>75%</th>\n",
       "      <td>6.000000</td>\n",
       "      <td>140.250000</td>\n",
       "      <td>80.000000</td>\n",
       "      <td>32.000000</td>\n",
       "      <td>127.250000</td>\n",
       "      <td>36.600000</td>\n",
       "      <td>0.626250</td>\n",
       "      <td>41.000000</td>\n",
       "      <td>1.000000</td>\n",
       "    </tr>\n",
       "    <tr>\n",
       "      <th>max</th>\n",
       "      <td>17.000000</td>\n",
       "      <td>199.000000</td>\n",
       "      <td>122.000000</td>\n",
       "      <td>99.000000</td>\n",
       "      <td>846.000000</td>\n",
       "      <td>67.100000</td>\n",
       "      <td>2.420000</td>\n",
       "      <td>81.000000</td>\n",
       "      <td>1.000000</td>\n",
       "    </tr>\n",
       "  </tbody>\n",
       "</table>\n",
       "</div>"
      ],
      "text/plain": [
       "       Pregnancies     Glucose  BloodPressure  SkinThickness     Insulin  \\\n",
       "count   768.000000  768.000000     768.000000     768.000000  768.000000   \n",
       "mean      3.845052  120.894531      69.105469      20.536458   79.799479   \n",
       "std       3.369578   31.972618      19.355807      15.952218  115.244002   \n",
       "min       0.000000    0.000000       0.000000       0.000000    0.000000   \n",
       "25%       1.000000   99.000000      62.000000       0.000000    0.000000   \n",
       "50%       3.000000  117.000000      72.000000      23.000000   30.500000   \n",
       "75%       6.000000  140.250000      80.000000      32.000000  127.250000   \n",
       "max      17.000000  199.000000     122.000000      99.000000  846.000000   \n",
       "\n",
       "              BMI  DiabetesPedigreeFunction         Age     Outcome  \n",
       "count  768.000000                768.000000  768.000000  768.000000  \n",
       "mean    31.992578                  0.471876   33.240885    0.348958  \n",
       "std      7.884160                  0.331329   11.760232    0.476951  \n",
       "min      0.000000                  0.078000   21.000000    0.000000  \n",
       "25%     27.300000                  0.243750   24.000000    0.000000  \n",
       "50%     32.000000                  0.372500   29.000000    0.000000  \n",
       "75%     36.600000                  0.626250   41.000000    1.000000  \n",
       "max     67.100000                  2.420000   81.000000    1.000000  "
      ]
     },
     "execution_count": 61,
     "metadata": {},
     "output_type": "execute_result"
    }
   ],
   "source": [
    "#identify summary statistics of the attributes including measures of central tendency and measures of dispersion.\n",
    "df.describe()"
   ]
  },
  {
   "cell_type": "code",
   "execution_count": 62,
   "id": "ae0ef919",
   "metadata": {
    "scrolled": true
   },
   "outputs": [
    {
     "data": {
      "image/png": "[encoded data removed]",
      "text/plain": [
       "<Figure size 2000x700 with 1 Axes>"
      ]
     },
     "metadata": {},
     "output_type": "display_data"
    }
   ],
   "source": [
    "#let's check for outliers in the dataset using a boxplot.\n",
    "df.boxplot(return_type='axes',figsize=(20,7))\n",
    "plt.title('Box Plot of Diabetes Data')\n",
    "plt.xlabel('Attribute')\n",
    "plt.ylabel('Measurement/Count')\n",
    "plt.show()"
   ]
  },
  {
   "cell_type": "markdown",
   "id": "7aa4444a",
   "metadata": {},
   "source": [
    "- We are not going to remove the outliers as they could hold vital information for our model."
   ]
  },
  {
   "cell_type": "markdown",
   "id": "b35c04a4",
   "metadata": {},
   "source": [
    "#Notes on summary statistics;\n",
    "- On closer inspection, it was discovered that certain columns have 0 values when in reality they shouldn't have 0 values, columns like Glucose which indicates blood sugar level, Blood pressure, Insulin, Skin Thickness and BMI. As such we are going to replace these impossible values with the median of the columns. "
   ]
  },
  {
   "cell_type": "code",
   "execution_count": 63,
   "id": "7e7aae38",
   "metadata": {},
   "outputs": [],
   "source": [
    "#Replace impossible values with mean of the column\n",
    "df['Glucose'] = df['Glucose'].replace(0, df.Glucose.median())\n",
    "df['BloodPressure'] = df['BloodPressure'].replace(0, df.BloodPressure.median())\n",
    "df['SkinThickness'] = df['SkinThickness'].replace(0, df.SkinThickness.median())\n",
    "df['Insulin'] = df['Insulin'].replace(0, df.Insulin.median())\n",
    "df['BMI'] = df['BMI'].replace(0, df.BMI.median())\n"
   ]
  },
  {
   "cell_type": "code",
   "execution_count": 64,
   "id": "54dbb9ba",
   "metadata": {
    "scrolled": false
   },
   "outputs": [
    {
     "data": {
      "text/html": [
       "<div>\n",
       "<style scoped>\n",
       "    .dataframe tbody tr th:only-of-type {\n",
       "        vertical-align: middle;\n",
       "    }\n",
       "\n",
       "    .dataframe tbody tr th {\n",
       "        vertical-align: top;\n",
       "    }\n",
       "\n",
       "    .dataframe thead th {\n",
       "        text-align: right;\n",
       "    }\n",
       "</style>\n",
       "<table border=\"1\" class=\"dataframe\">\n",
       "  <thead>\n",
       "    <tr style=\"text-align: right;\">\n",
       "      <th></th>\n",
       "      <th>Pregnancies</th>\n",
       "      <th>Glucose</th>\n",
       "      <th>BloodPressure</th>\n",
       "      <th>SkinThickness</th>\n",
       "      <th>Insulin</th>\n",
       "      <th>BMI</th>\n",
       "      <th>DiabetesPedigreeFunction</th>\n",
       "      <th>Age</th>\n",
       "      <th>Outcome</th>\n",
       "    </tr>\n",
       "  </thead>\n",
       "  <tbody>\n",
       "    <tr>\n",
       "      <th>count</th>\n",
       "      <td>768.000000</td>\n",
       "      <td>768.000000</td>\n",
       "      <td>768.000000</td>\n",
       "      <td>768.000000</td>\n",
       "      <td>768.000000</td>\n",
       "      <td>768.000000</td>\n",
       "      <td>768.000000</td>\n",
       "      <td>768.000000</td>\n",
       "      <td>768.000000</td>\n",
       "    </tr>\n",
       "    <tr>\n",
       "      <th>mean</th>\n",
       "      <td>3.845052</td>\n",
       "      <td>121.656250</td>\n",
       "      <td>72.386719</td>\n",
       "      <td>27.334635</td>\n",
       "      <td>94.652344</td>\n",
       "      <td>32.450911</td>\n",
       "      <td>0.471876</td>\n",
       "      <td>33.240885</td>\n",
       "      <td>0.348958</td>\n",
       "    </tr>\n",
       "    <tr>\n",
       "      <th>std</th>\n",
       "      <td>3.369578</td>\n",
       "      <td>30.438286</td>\n",
       "      <td>12.096642</td>\n",
       "      <td>9.229014</td>\n",
       "      <td>105.547598</td>\n",
       "      <td>6.875366</td>\n",
       "      <td>0.331329</td>\n",
       "      <td>11.760232</td>\n",
       "      <td>0.476951</td>\n",
       "    </tr>\n",
       "    <tr>\n",
       "      <th>min</th>\n",
       "      <td>0.000000</td>\n",
       "      <td>44.000000</td>\n",
       "      <td>24.000000</td>\n",
       "      <td>7.000000</td>\n",
       "      <td>14.000000</td>\n",
       "      <td>18.200000</td>\n",
       "      <td>0.078000</td>\n",
       "      <td>21.000000</td>\n",
       "      <td>0.000000</td>\n",
       "    </tr>\n",
       "    <tr>\n",
       "      <th>25%</th>\n",
       "      <td>1.000000</td>\n",
       "      <td>99.750000</td>\n",
       "      <td>64.000000</td>\n",
       "      <td>23.000000</td>\n",
       "      <td>30.500000</td>\n",
       "      <td>27.500000</td>\n",
       "      <td>0.243750</td>\n",
       "      <td>24.000000</td>\n",
       "      <td>0.000000</td>\n",
       "    </tr>\n",
       "    <tr>\n",
       "      <th>50%</th>\n",
       "      <td>3.000000</td>\n",
       "      <td>117.000000</td>\n",
       "      <td>72.000000</td>\n",
       "      <td>23.000000</td>\n",
       "      <td>31.250000</td>\n",
       "      <td>32.000000</td>\n",
       "      <td>0.372500</td>\n",
       "      <td>29.000000</td>\n",
       "      <td>0.000000</td>\n",
       "    </tr>\n",
       "    <tr>\n",
       "      <th>75%</th>\n",
       "      <td>6.000000</td>\n",
       "      <td>140.250000</td>\n",
       "      <td>80.000000</td>\n",
       "      <td>32.000000</td>\n",
       "      <td>127.250000</td>\n",
       "      <td>36.600000</td>\n",
       "      <td>0.626250</td>\n",
       "      <td>41.000000</td>\n",
       "      <td>1.000000</td>\n",
       "    </tr>\n",
       "    <tr>\n",
       "      <th>max</th>\n",
       "      <td>17.000000</td>\n",
       "      <td>199.000000</td>\n",
       "      <td>122.000000</td>\n",
       "      <td>99.000000</td>\n",
       "      <td>846.000000</td>\n",
       "      <td>67.100000</td>\n",
       "      <td>2.420000</td>\n",
       "      <td>81.000000</td>\n",
       "      <td>1.000000</td>\n",
       "    </tr>\n",
       "  </tbody>\n",
       "</table>\n",
       "</div>"
      ],
      "text/plain": [
       "       Pregnancies     Glucose  BloodPressure  SkinThickness     Insulin  \\\n",
       "count   768.000000  768.000000     768.000000     768.000000  768.000000   \n",
       "mean      3.845052  121.656250      72.386719      27.334635   94.652344   \n",
       "std       3.369578   30.438286      12.096642       9.229014  105.547598   \n",
       "min       0.000000   44.000000      24.000000       7.000000   14.000000   \n",
       "25%       1.000000   99.750000      64.000000      23.000000   30.500000   \n",
       "50%       3.000000  117.000000      72.000000      23.000000   31.250000   \n",
       "75%       6.000000  140.250000      80.000000      32.000000  127.250000   \n",
       "max      17.000000  199.000000     122.000000      99.000000  846.000000   \n",
       "\n",
       "              BMI  DiabetesPedigreeFunction         Age     Outcome  \n",
       "count  768.000000                768.000000  768.000000  768.000000  \n",
       "mean    32.450911                  0.471876   33.240885    0.348958  \n",
       "std      6.875366                  0.331329   11.760232    0.476951  \n",
       "min     18.200000                  0.078000   21.000000    0.000000  \n",
       "25%     27.500000                  0.243750   24.000000    0.000000  \n",
       "50%     32.000000                  0.372500   29.000000    0.000000  \n",
       "75%     36.600000                  0.626250   41.000000    1.000000  \n",
       "max     67.100000                  2.420000   81.000000    1.000000  "
      ]
     },
     "execution_count": 64,
     "metadata": {},
     "output_type": "execute_result"
    }
   ],
   "source": [
    "#check summary statistics again to ensure the impossible values have been removed.\n",
    "df.describe()"
   ]
  },
  {
   "cell_type": "code",
   "execution_count": 65,
   "id": "a76f2d05",
   "metadata": {
    "scrolled": false
   },
   "outputs": [
    {
     "name": "stdout",
     "output_type": "stream",
     "text": [
      "500\n",
      "268\n",
      "Non-diabetes outcomes made up 65.1 % of the dataset\n",
      "Diabetes outcomes made up 34.9 % of the dataset\n"
     ]
    }
   ],
   "source": [
    "#check to see if dataset is balanced\n",
    "print(len(df[df['Outcome']==0]))\n",
    "print(len(df[df['Outcome']==1]))\n",
    "print(f'Non-diabetes outcomes made up {round((500/768)*100,2)} % of the dataset')\n",
    "print(f'Diabetes outcomes made up {round((268/768)*100,2)} % of the dataset')\n"
   ]
  },
  {
   "cell_type": "markdown",
   "id": "042d4e25",
   "metadata": {},
   "source": [
    "#There is an imbalance in the dataset which we would take note of for later."
   ]
  },
  {
   "cell_type": "code",
   "execution_count": 66,
   "id": "f1c31bc0",
   "metadata": {
    "scrolled": true
   },
   "outputs": [
    {
     "data": {
      "image/png": "[encoded data removed]",
      "text/plain": [
       "<Figure size 600x380 with 1 Axes>"
      ]
     },
     "metadata": {},
     "output_type": "display_data"
    }
   ],
   "source": [
    "#visualize the above\n",
    "plt.figure(figsize=(6,3.8))\n",
    "plot = sns.countplot(df['Outcome'], palette=['#0288D1', '#B3E5FC'])\n",
    "plot.set_xticklabels(plot.get_xticklabels())\n",
    "plt.show();"
   ]
  },
  {
   "cell_type": "code",
   "execution_count": 67,
   "id": "9968e8aa",
   "metadata": {},
   "outputs": [
    {
     "data": {
      "image/png": "[encoded data removed]",
      "text/plain": [
       "<Figure size 640x480 with 2 Axes>"
      ]
     },
     "metadata": {},
     "output_type": "display_data"
    }
   ],
   "source": [
    "#let's check for multicollinearity in the data\n",
    "sns.heatmap(df.corr(), cmap = ['#0288D1', '#B3E5FC', '#03A9F4', '#00BCD4'], annot = True)\n",
    "plt.show()"
   ]
  },
  {
   "cell_type": "markdown",
   "id": "87aaef46",
   "metadata": {},
   "source": [
    "Based on this correlation plot, the following were observed;\n",
    "- For every unit(yearly) increase in age there is an increase by 0.54 in number of pregnancies. This correlation does not mean we can substitute one feature for the other as they do not contain the same information.\n",
    "- For every millimeter increase in skin thickness, there is a 0.55 unit increase in BMI, they are highly correlated. We'd drop skin thickness and use BMI because it is a more standard measure of weight.\n",
    "- When Glucose and BMI increase by 1 unit, there is a 0.49 and 0.31 unit increase respectively in outcome of Diabetes. "
   ]
  },
  {
   "cell_type": "code",
   "execution_count": 90,
   "id": "832685bd",
   "metadata": {},
   "outputs": [],
   "source": [
    "#dropping the skin thickness feature\n",
    "df = df.drop('SkinThickness', axis=1)"
   ]
  },
  {
   "cell_type": "code",
   "execution_count": 91,
   "id": "6925eb43",
   "metadata": {
    "scrolled": true
   },
   "outputs": [
    {
     "data": {
      "text/html": [
       "<div>\n",
       "<style scoped>\n",
       "    .dataframe tbody tr th:only-of-type {\n",
       "        vertical-align: middle;\n",
       "    }\n",
       "\n",
       "    .dataframe tbody tr th {\n",
       "        vertical-align: top;\n",
       "    }\n",
       "\n",
       "    .dataframe thead th {\n",
       "        text-align: right;\n",
       "    }\n",
       "</style>\n",
       "<table border=\"1\" class=\"dataframe\">\n",
       "  <thead>\n",
       "    <tr style=\"text-align: right;\">\n",
       "      <th></th>\n",
       "      <th>Pregnancies</th>\n",
       "      <th>Glucose</th>\n",
       "      <th>BloodPressure</th>\n",
       "      <th>Insulin</th>\n",
       "      <th>BMI</th>\n",
       "      <th>DiabetesPedigreeFunction</th>\n",
       "      <th>Age</th>\n",
       "      <th>Outcome</th>\n",
       "    </tr>\n",
       "  </thead>\n",
       "  <tbody>\n",
       "    <tr>\n",
       "      <th>0</th>\n",
       "      <td>6</td>\n",
       "      <td>148</td>\n",
       "      <td>72</td>\n",
       "      <td>30.5</td>\n",
       "      <td>33.6</td>\n",
       "      <td>0.627</td>\n",
       "      <td>50</td>\n",
       "      <td>1</td>\n",
       "    </tr>\n",
       "    <tr>\n",
       "      <th>1</th>\n",
       "      <td>1</td>\n",
       "      <td>85</td>\n",
       "      <td>66</td>\n",
       "      <td>30.5</td>\n",
       "      <td>26.6</td>\n",
       "      <td>0.351</td>\n",
       "      <td>31</td>\n",
       "      <td>0</td>\n",
       "    </tr>\n",
       "    <tr>\n",
       "      <th>2</th>\n",
       "      <td>8</td>\n",
       "      <td>183</td>\n",
       "      <td>64</td>\n",
       "      <td>30.5</td>\n",
       "      <td>23.3</td>\n",
       "      <td>0.672</td>\n",
       "      <td>32</td>\n",
       "      <td>1</td>\n",
       "    </tr>\n",
       "    <tr>\n",
       "      <th>3</th>\n",
       "      <td>1</td>\n",
       "      <td>89</td>\n",
       "      <td>66</td>\n",
       "      <td>94.0</td>\n",
       "      <td>28.1</td>\n",
       "      <td>0.167</td>\n",
       "      <td>21</td>\n",
       "      <td>0</td>\n",
       "    </tr>\n",
       "    <tr>\n",
       "      <th>4</th>\n",
       "      <td>0</td>\n",
       "      <td>137</td>\n",
       "      <td>40</td>\n",
       "      <td>168.0</td>\n",
       "      <td>43.1</td>\n",
       "      <td>2.288</td>\n",
       "      <td>33</td>\n",
       "      <td>1</td>\n",
       "    </tr>\n",
       "    <tr>\n",
       "      <th>...</th>\n",
       "      <td>...</td>\n",
       "      <td>...</td>\n",
       "      <td>...</td>\n",
       "      <td>...</td>\n",
       "      <td>...</td>\n",
       "      <td>...</td>\n",
       "      <td>...</td>\n",
       "      <td>...</td>\n",
       "    </tr>\n",
       "    <tr>\n",
       "      <th>763</th>\n",
       "      <td>10</td>\n",
       "      <td>101</td>\n",
       "      <td>76</td>\n",
       "      <td>180.0</td>\n",
       "      <td>32.9</td>\n",
       "      <td>0.171</td>\n",
       "      <td>63</td>\n",
       "      <td>0</td>\n",
       "    </tr>\n",
       "    <tr>\n",
       "      <th>764</th>\n",
       "      <td>2</td>\n",
       "      <td>122</td>\n",
       "      <td>70</td>\n",
       "      <td>30.5</td>\n",
       "      <td>36.8</td>\n",
       "      <td>0.340</td>\n",
       "      <td>27</td>\n",
       "      <td>0</td>\n",
       "    </tr>\n",
       "    <tr>\n",
       "      <th>765</th>\n",
       "      <td>5</td>\n",
       "      <td>121</td>\n",
       "      <td>72</td>\n",
       "      <td>112.0</td>\n",
       "      <td>26.2</td>\n",
       "      <td>0.245</td>\n",
       "      <td>30</td>\n",
       "      <td>0</td>\n",
       "    </tr>\n",
       "    <tr>\n",
       "      <th>766</th>\n",
       "      <td>1</td>\n",
       "      <td>126</td>\n",
       "      <td>60</td>\n",
       "      <td>30.5</td>\n",
       "      <td>30.1</td>\n",
       "      <td>0.349</td>\n",
       "      <td>47</td>\n",
       "      <td>1</td>\n",
       "    </tr>\n",
       "    <tr>\n",
       "      <th>767</th>\n",
       "      <td>1</td>\n",
       "      <td>93</td>\n",
       "      <td>70</td>\n",
       "      <td>30.5</td>\n",
       "      <td>30.4</td>\n",
       "      <td>0.315</td>\n",
       "      <td>23</td>\n",
       "      <td>0</td>\n",
       "    </tr>\n",
       "  </tbody>\n",
       "</table>\n",
       "<p>768 rows × 8 columns</p>\n",
       "</div>"
      ],
      "text/plain": [
       "     Pregnancies  Glucose  BloodPressure  Insulin   BMI  \\\n",
       "0              6      148             72     30.5  33.6   \n",
       "1              1       85             66     30.5  26.6   \n",
       "2              8      183             64     30.5  23.3   \n",
       "3              1       89             66     94.0  28.1   \n",
       "4              0      137             40    168.0  43.1   \n",
       "..           ...      ...            ...      ...   ...   \n",
       "763           10      101             76    180.0  32.9   \n",
       "764            2      122             70     30.5  36.8   \n",
       "765            5      121             72    112.0  26.2   \n",
       "766            1      126             60     30.5  30.1   \n",
       "767            1       93             70     30.5  30.4   \n",
       "\n",
       "     DiabetesPedigreeFunction  Age  Outcome  \n",
       "0                       0.627   50        1  \n",
       "1                       0.351   31        0  \n",
       "2                       0.672   32        1  \n",
       "3                       0.167   21        0  \n",
       "4                       2.288   33        1  \n",
       "..                        ...  ...      ...  \n",
       "763                     0.171   63        0  \n",
       "764                     0.340   27        0  \n",
       "765                     0.245   30        0  \n",
       "766                     0.349   47        1  \n",
       "767                     0.315   23        0  \n",
       "\n",
       "[768 rows x 8 columns]"
      ]
     },
     "execution_count": 91,
     "metadata": {},
     "output_type": "execute_result"
    }
   ],
   "source": [
    "df"
   ]
  },
  {
   "cell_type": "markdown",
   "id": "0fe172ae",
   "metadata": {},
   "source": [
    "- The features would not be scaled because of the kind of information contained in the dataset. Mainly, they are risk factors and should be allowed to maintain their true weight if the model is to be as accurate as possible."
   ]
  },
  {
   "cell_type": "markdown",
   "id": "1da441be",
   "metadata": {},
   "source": [
    "## Modelling and Prediction\n",
    "For modelling and prediction, we are going to use three algorithms namely;\n",
    "- Decision tree Regressor\n",
    "- Logistic Regression\n",
    "- SVM model\n",
    "- First we start by splitting the data into training and test sets."
   ]
  },
  {
   "cell_type": "markdown",
   "id": "bdf3945e",
   "metadata": {},
   "source": [
    "### Split the Data"
   ]
  },
  {
   "cell_type": "code",
   "execution_count": 92,
   "id": "2fd860e0",
   "metadata": {},
   "outputs": [],
   "source": [
    "X = df.iloc[:,:-1]\n",
    "y=df.iloc[:,-1]"
   ]
  },
  {
   "cell_type": "code",
   "execution_count": 93,
   "id": "2a318896",
   "metadata": {
    "scrolled": false
   },
   "outputs": [
    {
     "data": {
      "text/html": [
       "<div>\n",
       "<style scoped>\n",
       "    .dataframe tbody tr th:only-of-type {\n",
       "        vertical-align: middle;\n",
       "    }\n",
       "\n",
       "    .dataframe tbody tr th {\n",
       "        vertical-align: top;\n",
       "    }\n",
       "\n",
       "    .dataframe thead th {\n",
       "        text-align: right;\n",
       "    }\n",
       "</style>\n",
       "<table border=\"1\" class=\"dataframe\">\n",
       "  <thead>\n",
       "    <tr style=\"text-align: right;\">\n",
       "      <th></th>\n",
       "      <th>Pregnancies</th>\n",
       "      <th>Glucose</th>\n",
       "      <th>BloodPressure</th>\n",
       "      <th>Insulin</th>\n",
       "      <th>BMI</th>\n",
       "      <th>DiabetesPedigreeFunction</th>\n",
       "      <th>Age</th>\n",
       "    </tr>\n",
       "  </thead>\n",
       "  <tbody>\n",
       "    <tr>\n",
       "      <th>0</th>\n",
       "      <td>6</td>\n",
       "      <td>148</td>\n",
       "      <td>72</td>\n",
       "      <td>30.5</td>\n",
       "      <td>33.6</td>\n",
       "      <td>0.627</td>\n",
       "      <td>50</td>\n",
       "    </tr>\n",
       "    <tr>\n",
       "      <th>1</th>\n",
       "      <td>1</td>\n",
       "      <td>85</td>\n",
       "      <td>66</td>\n",
       "      <td>30.5</td>\n",
       "      <td>26.6</td>\n",
       "      <td>0.351</td>\n",
       "      <td>31</td>\n",
       "    </tr>\n",
       "    <tr>\n",
       "      <th>2</th>\n",
       "      <td>8</td>\n",
       "      <td>183</td>\n",
       "      <td>64</td>\n",
       "      <td>30.5</td>\n",
       "      <td>23.3</td>\n",
       "      <td>0.672</td>\n",
       "      <td>32</td>\n",
       "    </tr>\n",
       "    <tr>\n",
       "      <th>3</th>\n",
       "      <td>1</td>\n",
       "      <td>89</td>\n",
       "      <td>66</td>\n",
       "      <td>94.0</td>\n",
       "      <td>28.1</td>\n",
       "      <td>0.167</td>\n",
       "      <td>21</td>\n",
       "    </tr>\n",
       "    <tr>\n",
       "      <th>4</th>\n",
       "      <td>0</td>\n",
       "      <td>137</td>\n",
       "      <td>40</td>\n",
       "      <td>168.0</td>\n",
       "      <td>43.1</td>\n",
       "      <td>2.288</td>\n",
       "      <td>33</td>\n",
       "    </tr>\n",
       "    <tr>\n",
       "      <th>...</th>\n",
       "      <td>...</td>\n",
       "      <td>...</td>\n",
       "      <td>...</td>\n",
       "      <td>...</td>\n",
       "      <td>...</td>\n",
       "      <td>...</td>\n",
       "      <td>...</td>\n",
       "    </tr>\n",
       "    <tr>\n",
       "      <th>763</th>\n",
       "      <td>10</td>\n",
       "      <td>101</td>\n",
       "      <td>76</td>\n",
       "      <td>180.0</td>\n",
       "      <td>32.9</td>\n",
       "      <td>0.171</td>\n",
       "      <td>63</td>\n",
       "    </tr>\n",
       "    <tr>\n",
       "      <th>764</th>\n",
       "      <td>2</td>\n",
       "      <td>122</td>\n",
       "      <td>70</td>\n",
       "      <td>30.5</td>\n",
       "      <td>36.8</td>\n",
       "      <td>0.340</td>\n",
       "      <td>27</td>\n",
       "    </tr>\n",
       "    <tr>\n",
       "      <th>765</th>\n",
       "      <td>5</td>\n",
       "      <td>121</td>\n",
       "      <td>72</td>\n",
       "      <td>112.0</td>\n",
       "      <td>26.2</td>\n",
       "      <td>0.245</td>\n",
       "      <td>30</td>\n",
       "    </tr>\n",
       "    <tr>\n",
       "      <th>766</th>\n",
       "      <td>1</td>\n",
       "      <td>126</td>\n",
       "      <td>60</td>\n",
       "      <td>30.5</td>\n",
       "      <td>30.1</td>\n",
       "      <td>0.349</td>\n",
       "      <td>47</td>\n",
       "    </tr>\n",
       "    <tr>\n",
       "      <th>767</th>\n",
       "      <td>1</td>\n",
       "      <td>93</td>\n",
       "      <td>70</td>\n",
       "      <td>30.5</td>\n",
       "      <td>30.4</td>\n",
       "      <td>0.315</td>\n",
       "      <td>23</td>\n",
       "    </tr>\n",
       "  </tbody>\n",
       "</table>\n",
       "<p>768 rows × 7 columns</p>\n",
       "</div>"
      ],
      "text/plain": [
       "     Pregnancies  Glucose  BloodPressure  Insulin   BMI  \\\n",
       "0              6      148             72     30.5  33.6   \n",
       "1              1       85             66     30.5  26.6   \n",
       "2              8      183             64     30.5  23.3   \n",
       "3              1       89             66     94.0  28.1   \n",
       "4              0      137             40    168.0  43.1   \n",
       "..           ...      ...            ...      ...   ...   \n",
       "763           10      101             76    180.0  32.9   \n",
       "764            2      122             70     30.5  36.8   \n",
       "765            5      121             72    112.0  26.2   \n",
       "766            1      126             60     30.5  30.1   \n",
       "767            1       93             70     30.5  30.4   \n",
       "\n",
       "     DiabetesPedigreeFunction  Age  \n",
       "0                       0.627   50  \n",
       "1                       0.351   31  \n",
       "2                       0.672   32  \n",
       "3                       0.167   21  \n",
       "4                       2.288   33  \n",
       "..                        ...  ...  \n",
       "763                     0.171   63  \n",
       "764                     0.340   27  \n",
       "765                     0.245   30  \n",
       "766                     0.349   47  \n",
       "767                     0.315   23  \n",
       "\n",
       "[768 rows x 7 columns]"
      ]
     },
     "execution_count": 93,
     "metadata": {},
     "output_type": "execute_result"
    }
   ],
   "source": [
    "X"
   ]
  },
  {
   "cell_type": "code",
   "execution_count": 94,
   "id": "a7e4ba10",
   "metadata": {},
   "outputs": [
    {
     "data": {
      "text/plain": [
       "0      1\n",
       "1      0\n",
       "2      1\n",
       "3      0\n",
       "4      1\n",
       "      ..\n",
       "763    0\n",
       "764    0\n",
       "765    0\n",
       "766    1\n",
       "767    0\n",
       "Name: Outcome, Length: 768, dtype: int64"
      ]
     },
     "execution_count": 94,
     "metadata": {},
     "output_type": "execute_result"
    }
   ],
   "source": [
    "y"
   ]
  },
  {
   "cell_type": "code",
   "execution_count": 95,
   "id": "dcbf7d18",
   "metadata": {},
   "outputs": [],
   "source": [
    "from sklearn.model_selection import train_test_split\n",
    "\n",
    "X_train, X_test, y_train, y_test = train_test_split(X, y, test_size=0.2, random_state= 1)"
   ]
  },
  {
   "cell_type": "markdown",
   "id": "ab063fad",
   "metadata": {},
   "source": [
    "### Decision Tree Classifier"
   ]
  },
  {
   "cell_type": "code",
   "execution_count": 96,
   "id": "b7fda507",
   "metadata": {},
   "outputs": [
    {
     "data": {
      "text/html": [
       "<style>#sk-container-id-8 {color: black;background-color: white;}#sk-container-id-8 pre{padding: 0;}#sk-container-id-8 div.sk-toggleable {background-color: white;}#sk-container-id-8 label.sk-toggleable__label {cursor: pointer;display: block;width: 100%;margin-bottom: 0;padding: 0.3em;box-sizing: border-box;text-align: center;}#sk-container-id-8 label.sk-toggleable__label-arrow:before {content: \"▸\";float: left;margin-right: 0.25em;color: #696969;}#sk-container-id-8 label.sk-toggleable__label-arrow:hover:before {color: black;}#sk-container-id-8 div.sk-estimator:hover label.sk-toggleable__label-arrow:before {color: black;}#sk-container-id-8 div.sk-toggleable__content {max-height: 0;max-width: 0;overflow: hidden;text-align: left;background-color: #f0f8ff;}#sk-container-id-8 div.sk-toggleable__content pre {margin: 0.2em;color: black;border-radius: 0.25em;background-color: #f0f8ff;}#sk-container-id-8 input.sk-toggleable__control:checked~div.sk-toggleable__content {max-height: 200px;max-width: 100%;overflow: auto;}#sk-container-id-8 input.sk-toggleable__control:checked~label.sk-toggleable__label-arrow:before {content: \"▾\";}#sk-container-id-8 div.sk-estimator input.sk-toggleable__control:checked~label.sk-toggleable__label {background-color: #d4ebff;}#sk-container-id-8 div.sk-label input.sk-toggleable__control:checked~label.sk-toggleable__label {background-color: #d4ebff;}#sk-container-id-8 input.sk-hidden--visually {border: 0;clip: rect(1px 1px 1px 1px);clip: rect(1px, 1px, 1px, 1px);height: 1px;margin: -1px;overflow: hidden;padding: 0;position: absolute;width: 1px;}#sk-container-id-8 div.sk-estimator {font-family: monospace;background-color: #f0f8ff;border: 1px dotted black;border-radius: 0.25em;box-sizing: border-box;margin-bottom: 0.5em;}#sk-container-id-8 div.sk-estimator:hover {background-color: #d4ebff;}#sk-container-id-8 div.sk-parallel-item::after {content: \"\";width: 100%;border-bottom: 1px solid gray;flex-grow: 1;}#sk-container-id-8 div.sk-label:hover label.sk-toggleable__label {background-color: #d4ebff;}#sk-container-id-8 div.sk-serial::before {content: \"\";position: absolute;border-left: 1px solid gray;box-sizing: border-box;top: 0;bottom: 0;left: 50%;z-index: 0;}#sk-container-id-8 div.sk-serial {display: flex;flex-direction: column;align-items: center;background-color: white;padding-right: 0.2em;padding-left: 0.2em;position: relative;}#sk-container-id-8 div.sk-item {position: relative;z-index: 1;}#sk-container-id-8 div.sk-parallel {display: flex;align-items: stretch;justify-content: center;background-color: white;position: relative;}#sk-container-id-8 div.sk-item::before, #sk-container-id-8 div.sk-parallel-item::before {content: \"\";position: absolute;border-left: 1px solid gray;box-sizing: border-box;top: 0;bottom: 0;left: 50%;z-index: -1;}#sk-container-id-8 div.sk-parallel-item {display: flex;flex-direction: column;z-index: 1;position: relative;background-color: white;}#sk-container-id-8 div.sk-parallel-item:first-child::after {align-self: flex-end;width: 50%;}#sk-container-id-8 div.sk-parallel-item:last-child::after {align-self: flex-start;width: 50%;}#sk-container-id-8 div.sk-parallel-item:only-child::after {width: 0;}#sk-container-id-8 div.sk-dashed-wrapped {border: 1px dashed gray;margin: 0 0.4em 0.5em 0.4em;box-sizing: border-box;padding-bottom: 0.4em;background-color: white;}#sk-container-id-8 div.sk-label label {font-family: monospace;font-weight: bold;display: inline-block;line-height: 1.2em;}#sk-container-id-8 div.sk-label-container {text-align: center;}#sk-container-id-8 div.sk-container {/* jupyter's `normalize.less` sets `[hidden] { display: none; }` but bootstrap.min.css set `[hidden] { display: none !important; }` so we also need the `!important` here to be able to override the default hidden behavior on the sphinx rendered scikit-learn.org. See: https://github.com/scikit-learn/scikit-learn/issues/21755 */display: inline-block !important;position: relative;}#sk-container-id-8 div.sk-text-repr-fallback {display: none;}</style><div id=\"sk-container-id-8\" class=\"sk-top-container\"><div class=\"sk-text-repr-fallback\"><pre>DecisionTreeClassifier(max_depth=2, random_state=0)</pre><b>In a Jupyter environment, please rerun this cell to show the HTML representation or trust the notebook. <br />On GitHub, the HTML representation is unable to render, please try loading this page with nbviewer.org.</b></div><div class=\"sk-container\" hidden><div class=\"sk-item\"><div class=\"sk-estimator sk-toggleable\"><input class=\"sk-toggleable__control sk-hidden--visually\" id=\"sk-estimator-id-8\" type=\"checkbox\" checked><label for=\"sk-estimator-id-8\" class=\"sk-toggleable__label sk-toggleable__label-arrow\">DecisionTreeClassifier</label><div class=\"sk-toggleable__content\"><pre>DecisionTreeClassifier(max_depth=2, random_state=0)</pre></div></div></div></div></div>"
      ],
      "text/plain": [
       "DecisionTreeClassifier(max_depth=2, random_state=0)"
      ]
     },
     "execution_count": 96,
     "metadata": {},
     "output_type": "execute_result"
    }
   ],
   "source": [
    "#import the library\n",
    "from sklearn.tree import DecisionTreeClassifier\n",
    "\n",
    "#define the model\n",
    "decision = DecisionTreeClassifier(criterion='gini', max_depth = 2, splitter = 'best', random_state=0) #random_state ensures you get the same model each time, gini is used because it is binary classification\n",
    "#max depth is how much the nodes should get expanded\n",
    "#fit the model\n",
    "decision.fit(X_train, y_train)"
   ]
  },
  {
   "cell_type": "code",
   "execution_count": 97,
   "id": "cb1296da",
   "metadata": {},
   "outputs": [],
   "source": [
    "#now we are going to predict the test set using the X_test\n",
    "y_pred_decision = decision.predict(X_test)"
   ]
  },
  {
   "cell_type": "code",
   "execution_count": 98,
   "id": "fc4d6d7b",
   "metadata": {},
   "outputs": [
    {
     "name": "stdout",
     "output_type": "stream",
     "text": [
      "0.2077922077922078\n",
      "The Mean Absolute Error measures the average difference between predicted values and Actual Values\n"
     ]
    }
   ],
   "source": [
    "#we are going test the models accuracy using mean squared error because it is suited for outliers\n",
    "from sklearn.metrics import mean_absolute_error \n",
    "print(mean_absolute_error(y_test, y_pred_decision))\n",
    "print('The Mean Absolute Error measures the average difference between predicted values and Actual Values')"
   ]
  },
  {
   "cell_type": "code",
   "execution_count": 99,
   "id": "a263e719",
   "metadata": {},
   "outputs": [
    {
     "name": "stdout",
     "output_type": "stream",
     "text": [
      "The model accuracy score of the decision tree regressor 0.7922077922077922\n"
     ]
    }
   ],
   "source": [
    "from sklearn.metrics import accuracy_score\n",
    "print(f'The model accuracy score of the decision tree regressor {accuracy_score(y_test,y_pred_decision)}')"
   ]
  },
  {
   "cell_type": "code",
   "execution_count": 100,
   "id": "c03ae862",
   "metadata": {},
   "outputs": [
    {
     "name": "stdout",
     "output_type": "stream",
     "text": [
      "Training set score:  0.7654723127035831\n",
      "Test set score:  0.7922077922077922\n"
     ]
    }
   ],
   "source": [
    "print('Training set score: ', decision.score(X_train, y_train))\n",
    "\n",
    "print('Test set score: ', decision.score(X_test, y_test))"
   ]
  },
  {
   "cell_type": "markdown",
   "id": "68525251",
   "metadata": {},
   "source": [
    "### Logistic Regression"
   ]
  },
  {
   "cell_type": "code",
   "execution_count": 101,
   "id": "b8ad144f",
   "metadata": {},
   "outputs": [
    {
     "data": {
      "text/html": [
       "<style>#sk-container-id-9 {color: black;background-color: white;}#sk-container-id-9 pre{padding: 0;}#sk-container-id-9 div.sk-toggleable {background-color: white;}#sk-container-id-9 label.sk-toggleable__label {cursor: pointer;display: block;width: 100%;margin-bottom: 0;padding: 0.3em;box-sizing: border-box;text-align: center;}#sk-container-id-9 label.sk-toggleable__label-arrow:before {content: \"▸\";float: left;margin-right: 0.25em;color: #696969;}#sk-container-id-9 label.sk-toggleable__label-arrow:hover:before {color: black;}#sk-container-id-9 div.sk-estimator:hover label.sk-toggleable__label-arrow:before {color: black;}#sk-container-id-9 div.sk-toggleable__content {max-height: 0;max-width: 0;overflow: hidden;text-align: left;background-color: #f0f8ff;}#sk-container-id-9 div.sk-toggleable__content pre {margin: 0.2em;color: black;border-radius: 0.25em;background-color: #f0f8ff;}#sk-container-id-9 input.sk-toggleable__control:checked~div.sk-toggleable__content {max-height: 200px;max-width: 100%;overflow: auto;}#sk-container-id-9 input.sk-toggleable__control:checked~label.sk-toggleable__label-arrow:before {content: \"▾\";}#sk-container-id-9 div.sk-estimator input.sk-toggleable__control:checked~label.sk-toggleable__label {background-color: #d4ebff;}#sk-container-id-9 div.sk-label input.sk-toggleable__control:checked~label.sk-toggleable__label {background-color: #d4ebff;}#sk-container-id-9 input.sk-hidden--visually {border: 0;clip: rect(1px 1px 1px 1px);clip: rect(1px, 1px, 1px, 1px);height: 1px;margin: -1px;overflow: hidden;padding: 0;position: absolute;width: 1px;}#sk-container-id-9 div.sk-estimator {font-family: monospace;background-color: #f0f8ff;border: 1px dotted black;border-radius: 0.25em;box-sizing: border-box;margin-bottom: 0.5em;}#sk-container-id-9 div.sk-estimator:hover {background-color: #d4ebff;}#sk-container-id-9 div.sk-parallel-item::after {content: \"\";width: 100%;border-bottom: 1px solid gray;flex-grow: 1;}#sk-container-id-9 div.sk-label:hover label.sk-toggleable__label {background-color: #d4ebff;}#sk-container-id-9 div.sk-serial::before {content: \"\";position: absolute;border-left: 1px solid gray;box-sizing: border-box;top: 0;bottom: 0;left: 50%;z-index: 0;}#sk-container-id-9 div.sk-serial {display: flex;flex-direction: column;align-items: center;background-color: white;padding-right: 0.2em;padding-left: 0.2em;position: relative;}#sk-container-id-9 div.sk-item {position: relative;z-index: 1;}#sk-container-id-9 div.sk-parallel {display: flex;align-items: stretch;justify-content: center;background-color: white;position: relative;}#sk-container-id-9 div.sk-item::before, #sk-container-id-9 div.sk-parallel-item::before {content: \"\";position: absolute;border-left: 1px solid gray;box-sizing: border-box;top: 0;bottom: 0;left: 50%;z-index: -1;}#sk-container-id-9 div.sk-parallel-item {display: flex;flex-direction: column;z-index: 1;position: relative;background-color: white;}#sk-container-id-9 div.sk-parallel-item:first-child::after {align-self: flex-end;width: 50%;}#sk-container-id-9 div.sk-parallel-item:last-child::after {align-self: flex-start;width: 50%;}#sk-container-id-9 div.sk-parallel-item:only-child::after {width: 0;}#sk-container-id-9 div.sk-dashed-wrapped {border: 1px dashed gray;margin: 0 0.4em 0.5em 0.4em;box-sizing: border-box;padding-bottom: 0.4em;background-color: white;}#sk-container-id-9 div.sk-label label {font-family: monospace;font-weight: bold;display: inline-block;line-height: 1.2em;}#sk-container-id-9 div.sk-label-container {text-align: center;}#sk-container-id-9 div.sk-container {/* jupyter's `normalize.less` sets `[hidden] { display: none; }` but bootstrap.min.css set `[hidden] { display: none !important; }` so we also need the `!important` here to be able to override the default hidden behavior on the sphinx rendered scikit-learn.org. See: https://github.com/scikit-learn/scikit-learn/issues/21755 */display: inline-block !important;position: relative;}#sk-container-id-9 div.sk-text-repr-fallback {display: none;}</style><div id=\"sk-container-id-9\" class=\"sk-top-container\"><div class=\"sk-text-repr-fallback\"><pre>LogisticRegression(class_weight=&#x27;balanced&#x27;, random_state=0)</pre><b>In a Jupyter environment, please rerun this cell to show the HTML representation or trust the notebook. <br />On GitHub, the HTML representation is unable to render, please try loading this page with nbviewer.org.</b></div><div class=\"sk-container\" hidden><div class=\"sk-item\"><div class=\"sk-estimator sk-toggleable\"><input class=\"sk-toggleable__control sk-hidden--visually\" id=\"sk-estimator-id-9\" type=\"checkbox\" checked><label for=\"sk-estimator-id-9\" class=\"sk-toggleable__label sk-toggleable__label-arrow\">LogisticRegression</label><div class=\"sk-toggleable__content\"><pre>LogisticRegression(class_weight=&#x27;balanced&#x27;, random_state=0)</pre></div></div></div></div></div>"
      ],
      "text/plain": [
       "LogisticRegression(class_weight='balanced', random_state=0)"
      ]
     },
     "execution_count": 101,
     "metadata": {},
     "output_type": "execute_result"
    }
   ],
   "source": [
    "from sklearn.linear_model import LogisticRegression\n",
    "logreg = LogisticRegression(solver='lbfgs', random_state=0, class_weight='balanced')\n",
    "logreg.fit(X_train,y_train)"
   ]
  },
  {
   "cell_type": "code",
   "execution_count": 102,
   "id": "5d47f112",
   "metadata": {},
   "outputs": [],
   "source": [
    "#now we are going to predict the test set using the X_test\n",
    "y_pred_logreg = logreg.predict(X_test)"
   ]
  },
  {
   "cell_type": "code",
   "execution_count": 103,
   "id": "debc4762",
   "metadata": {},
   "outputs": [
    {
     "data": {
      "text/plain": [
       "array([0.40624012, 0.56983144, 0.78104018, 0.91950407, 0.66932981,\n",
       "       0.58014512, 0.48104436, 0.85597279, 0.74251795, 0.6796077 ,\n",
       "       0.35807192, 0.88720845, 0.00359224, 0.13088211, 0.50901145,\n",
       "       0.13668266, 0.6358196 , 0.52820731, 0.93800482, 0.77237488,\n",
       "       0.44224046, 0.77456024, 0.01368376, 0.60209645, 0.89297747,\n",
       "       0.42467206, 0.6703586 , 0.11737762, 0.86843045, 0.34051723,\n",
       "       0.39267771, 0.79043998, 0.92199793, 0.16052643, 0.80219811,\n",
       "       0.17503409, 0.86174206, 0.70914155, 0.83491155, 0.20131662,\n",
       "       0.66677003, 0.87493706, 0.9435669 , 0.50886225, 0.89594871,\n",
       "       0.97303175, 0.14749322, 0.08094778, 0.89800125, 0.79347883,\n",
       "       0.93547977, 0.71056851, 0.06496261, 0.93103002, 0.10148284,\n",
       "       0.83637411, 0.49389885, 0.56097401, 0.27468666, 0.75488199,\n",
       "       0.22488913, 0.89677169, 0.16878332, 0.64514263, 0.43876923,\n",
       "       0.84231812, 0.3615638 , 0.50701888, 0.13549073, 0.21090121,\n",
       "       0.05057525, 0.11751001, 0.23011996, 0.97825246, 0.15761373,\n",
       "       0.57194991, 0.19284137, 0.53165475, 0.82908189, 0.16899808,\n",
       "       0.15577461, 0.63656426, 0.39968574, 0.56278503, 0.55521874,\n",
       "       0.14741991, 0.22990829, 0.50318466, 0.48580771, 0.6105075 ,\n",
       "       0.84195035, 0.94650704, 0.60242132, 0.83455116, 0.131516  ,\n",
       "       0.36687191, 0.60094265, 0.64226512, 0.04766757, 0.81718063,\n",
       "       0.76652438, 0.6024586 , 0.15112285, 0.65203349, 0.83616591,\n",
       "       0.87546988, 0.31341436, 0.20939572, 0.67793274, 0.79895745,\n",
       "       0.47413409, 0.93097399, 0.3704208 , 0.71663317, 0.27260065,\n",
       "       0.91314918, 0.81145027, 0.45093005, 0.56388808, 0.41152362,\n",
       "       0.6669536 , 0.04683868, 0.50205174, 0.48249879, 0.7951951 ,\n",
       "       0.75058497, 0.59431442, 0.4181162 , 0.23296815, 0.63276314,\n",
       "       0.0165846 , 0.93457856, 0.40628705, 0.4852698 , 0.80054665,\n",
       "       0.63896734, 0.8516009 , 0.17562617, 0.77865387, 0.62114701,\n",
       "       0.0186062 , 0.82655808, 0.72936839, 0.07055831, 0.16547061,\n",
       "       0.35361297, 0.91890985, 0.88284498, 0.71743333, 0.76654502,\n",
       "       0.57432541, 0.01335558, 0.25682833, 0.84757913])"
      ]
     },
     "execution_count": 103,
     "metadata": {},
     "output_type": "execute_result"
    }
   ],
   "source": [
    "# probability of getting zero for each data point, i.e , no Diabetes\n",
    "logreg.predict_proba(X_test)[:,0]"
   ]
  },
  {
   "cell_type": "code",
   "execution_count": 104,
   "id": "279982f9",
   "metadata": {},
   "outputs": [
    {
     "data": {
      "text/plain": [
       "array([0.59375988, 0.43016856, 0.21895982, 0.08049593, 0.33067019,\n",
       "       0.41985488, 0.51895564, 0.14402721, 0.25748205, 0.3203923 ,\n",
       "       0.64192808, 0.11279155, 0.99640776, 0.86911789, 0.49098855,\n",
       "       0.86331734, 0.3641804 , 0.47179269, 0.06199518, 0.22762512,\n",
       "       0.55775954, 0.22543976, 0.98631624, 0.39790355, 0.10702253,\n",
       "       0.57532794, 0.3296414 , 0.88262238, 0.13156955, 0.65948277,\n",
       "       0.60732229, 0.20956002, 0.07800207, 0.83947357, 0.19780189,\n",
       "       0.82496591, 0.13825794, 0.29085845, 0.16508845, 0.79868338,\n",
       "       0.33322997, 0.12506294, 0.0564331 , 0.49113775, 0.10405129,\n",
       "       0.02696825, 0.85250678, 0.91905222, 0.10199875, 0.20652117,\n",
       "       0.06452023, 0.28943149, 0.93503739, 0.06896998, 0.89851716,\n",
       "       0.16362589, 0.50610115, 0.43902599, 0.72531334, 0.24511801,\n",
       "       0.77511087, 0.10322831, 0.83121668, 0.35485737, 0.56123077,\n",
       "       0.15768188, 0.6384362 , 0.49298112, 0.86450927, 0.78909879,\n",
       "       0.94942475, 0.88248999, 0.76988004, 0.02174754, 0.84238627,\n",
       "       0.42805009, 0.80715863, 0.46834525, 0.17091811, 0.83100192,\n",
       "       0.84422539, 0.36343574, 0.60031426, 0.43721497, 0.44478126,\n",
       "       0.85258009, 0.77009171, 0.49681534, 0.51419229, 0.3894925 ,\n",
       "       0.15804965, 0.05349296, 0.39757868, 0.16544884, 0.868484  ,\n",
       "       0.63312809, 0.39905735, 0.35773488, 0.95233243, 0.18281937,\n",
       "       0.23347562, 0.3975414 , 0.84887715, 0.34796651, 0.16383409,\n",
       "       0.12453012, 0.68658564, 0.79060428, 0.32206726, 0.20104255,\n",
       "       0.52586591, 0.06902601, 0.6295792 , 0.28336683, 0.72739935,\n",
       "       0.08685082, 0.18854973, 0.54906995, 0.43611192, 0.58847638,\n",
       "       0.3330464 , 0.95316132, 0.49794826, 0.51750121, 0.2048049 ,\n",
       "       0.24941503, 0.40568558, 0.5818838 , 0.76703185, 0.36723686,\n",
       "       0.9834154 , 0.06542144, 0.59371295, 0.5147302 , 0.19945335,\n",
       "       0.36103266, 0.1483991 , 0.82437383, 0.22134613, 0.37885299,\n",
       "       0.9813938 , 0.17344192, 0.27063161, 0.92944169, 0.83452939,\n",
       "       0.64638703, 0.08109015, 0.11715502, 0.28256667, 0.23345498,\n",
       "       0.42567459, 0.98664442, 0.74317167, 0.15242087])"
      ]
     },
     "execution_count": 104,
     "metadata": {},
     "output_type": "execute_result"
    }
   ],
   "source": [
    "#probability of getting 1, i.e , Diabetes\n",
    "logreg.predict_proba(X_test)[:,1]"
   ]
  },
  {
   "cell_type": "code",
   "execution_count": 105,
   "id": "f8b62d0c",
   "metadata": {
    "scrolled": true
   },
   "outputs": [
    {
     "name": "stdout",
     "output_type": "stream",
     "text": [
      "Training set score:  0.754071661237785\n",
      "Test set score:  0.7922077922077922\n"
     ]
    }
   ],
   "source": [
    "# model accuracy metrics for logistic regression\n",
    "\n",
    "\n",
    "print('Training set score: ', logreg.score(X_train, y_train))\n",
    "\n",
    "print('Test set score: ', logreg.score(X_test, y_test))"
   ]
  },
  {
   "cell_type": "code",
   "execution_count": 106,
   "id": "ae041e92",
   "metadata": {},
   "outputs": [
    {
     "data": {
      "text/plain": [
       "0.6428571428571429"
      ]
     },
     "execution_count": 106,
     "metadata": {},
     "output_type": "execute_result"
    }
   ],
   "source": [
    "#check null accuracy \n",
    "y_test.value_counts()\n",
    "null_acuracy = 99/(len(y_test))\n",
    "null_acuracy #A model that predicts the most frequent class would be right 64% of the time."
   ]
  },
  {
   "cell_type": "code",
   "execution_count": 107,
   "id": "fce033c7",
   "metadata": {},
   "outputs": [
    {
     "data": {
      "text/plain": [
       "array([[79, 20],\n",
       "       [12, 43]], dtype=int64)"
      ]
     },
     "execution_count": 107,
     "metadata": {},
     "output_type": "execute_result"
    }
   ],
   "source": [
    "from sklearn.metrics import confusion_matrix\n",
    "cm =confusion_matrix(y_test,y_pred_logreg)\n",
    "cm"
   ]
  },
  {
   "cell_type": "code",
   "execution_count": 108,
   "id": "5895a902",
   "metadata": {},
   "outputs": [
    {
     "name": "stdout",
     "output_type": "stream",
     "text": [
      "True positives (TP) =  79\n",
      "False positives (FP)=  20\n",
      "False Negatives (FN)=  12\n",
      "True Negatives (TN)=  43\n"
     ]
    }
   ],
   "source": [
    "print('True positives (TP) = ', cm[0,0])\n",
    "print('False positives (FP)= ', cm[0, 1])\n",
    "print('False Negatives (FN)= ', cm[1, 0])\n",
    "print('True Negatives (TN)= ', cm[1, 1])"
   ]
  },
  {
   "cell_type": "markdown",
   "id": "270f6e1a",
   "metadata": {},
   "source": [
    "True positive (TP) <br>\n",
    "A test result that correctly indicates the presence of a condition or characteristic, (in this case, Diabetes). <br>\n",
    "True negative (TN) <br>\n",
    "A test result that correctly indicates the absence of a condition or characteristic. <br>\n",
    "False positive (FP) <br>\n",
    "A test result which wrongly indicates that a particular condition or attribute is present. <br>\n",
    "False negative (FN) <br>\n",
    "A test result which wrongly indicates that a particular condition or attribute is absent."
   ]
  },
  {
   "cell_type": "code",
   "execution_count": 109,
   "id": "87108c21",
   "metadata": {
    "scrolled": true
   },
   "outputs": [
    {
     "name": "stdout",
     "output_type": "stream",
     "text": [
      "              precision    recall  f1-score   support\n",
      "\n",
      "           0       0.87      0.80      0.83        99\n",
      "           1       0.68      0.78      0.73        55\n",
      "\n",
      "    accuracy                           0.79       154\n",
      "   macro avg       0.78      0.79      0.78       154\n",
      "weighted avg       0.80      0.79      0.79       154\n",
      "\n"
     ]
    }
   ],
   "source": [
    "# Classification Report\n",
    "\n",
    "from sklearn.metrics import classification_report\n",
    "\n",
    "print(classification_report(y_test, y_pred_logreg))"
   ]
  },
  {
   "cell_type": "markdown",
   "id": "268513a0",
   "metadata": {},
   "source": [
    "### SVM\n",
    "Also know as Support Vector Machine model."
   ]
  },
  {
   "cell_type": "code",
   "execution_count": 136,
   "id": "a321bda6",
   "metadata": {},
   "outputs": [
    {
     "data": {
      "text/html": [
       "<style>#sk-container-id-15 {color: black;background-color: white;}#sk-container-id-15 pre{padding: 0;}#sk-container-id-15 div.sk-toggleable {background-color: white;}#sk-container-id-15 label.sk-toggleable__label {cursor: pointer;display: block;width: 100%;margin-bottom: 0;padding: 0.3em;box-sizing: border-box;text-align: center;}#sk-container-id-15 label.sk-toggleable__label-arrow:before {content: \"▸\";float: left;margin-right: 0.25em;color: #696969;}#sk-container-id-15 label.sk-toggleable__label-arrow:hover:before {color: black;}#sk-container-id-15 div.sk-estimator:hover label.sk-toggleable__label-arrow:before {color: black;}#sk-container-id-15 div.sk-toggleable__content {max-height: 0;max-width: 0;overflow: hidden;text-align: left;background-color: #f0f8ff;}#sk-container-id-15 div.sk-toggleable__content pre {margin: 0.2em;color: black;border-radius: 0.25em;background-color: #f0f8ff;}#sk-container-id-15 input.sk-toggleable__control:checked~div.sk-toggleable__content {max-height: 200px;max-width: 100%;overflow: auto;}#sk-container-id-15 input.sk-toggleable__control:checked~label.sk-toggleable__label-arrow:before {content: \"▾\";}#sk-container-id-15 div.sk-estimator input.sk-toggleable__control:checked~label.sk-toggleable__label {background-color: #d4ebff;}#sk-container-id-15 div.sk-label input.sk-toggleable__control:checked~label.sk-toggleable__label {background-color: #d4ebff;}#sk-container-id-15 input.sk-hidden--visually {border: 0;clip: rect(1px 1px 1px 1px);clip: rect(1px, 1px, 1px, 1px);height: 1px;margin: -1px;overflow: hidden;padding: 0;position: absolute;width: 1px;}#sk-container-id-15 div.sk-estimator {font-family: monospace;background-color: #f0f8ff;border: 1px dotted black;border-radius: 0.25em;box-sizing: border-box;margin-bottom: 0.5em;}#sk-container-id-15 div.sk-estimator:hover {background-color: #d4ebff;}#sk-container-id-15 div.sk-parallel-item::after {content: \"\";width: 100%;border-bottom: 1px solid gray;flex-grow: 1;}#sk-container-id-15 div.sk-label:hover label.sk-toggleable__label {background-color: #d4ebff;}#sk-container-id-15 div.sk-serial::before {content: \"\";position: absolute;border-left: 1px solid gray;box-sizing: border-box;top: 0;bottom: 0;left: 50%;z-index: 0;}#sk-container-id-15 div.sk-serial {display: flex;flex-direction: column;align-items: center;background-color: white;padding-right: 0.2em;padding-left: 0.2em;position: relative;}#sk-container-id-15 div.sk-item {position: relative;z-index: 1;}#sk-container-id-15 div.sk-parallel {display: flex;align-items: stretch;justify-content: center;background-color: white;position: relative;}#sk-container-id-15 div.sk-item::before, #sk-container-id-15 div.sk-parallel-item::before {content: \"\";position: absolute;border-left: 1px solid gray;box-sizing: border-box;top: 0;bottom: 0;left: 50%;z-index: -1;}#sk-container-id-15 div.sk-parallel-item {display: flex;flex-direction: column;z-index: 1;position: relative;background-color: white;}#sk-container-id-15 div.sk-parallel-item:first-child::after {align-self: flex-end;width: 50%;}#sk-container-id-15 div.sk-parallel-item:last-child::after {align-self: flex-start;width: 50%;}#sk-container-id-15 div.sk-parallel-item:only-child::after {width: 0;}#sk-container-id-15 div.sk-dashed-wrapped {border: 1px dashed gray;margin: 0 0.4em 0.5em 0.4em;box-sizing: border-box;padding-bottom: 0.4em;background-color: white;}#sk-container-id-15 div.sk-label label {font-family: monospace;font-weight: bold;display: inline-block;line-height: 1.2em;}#sk-container-id-15 div.sk-label-container {text-align: center;}#sk-container-id-15 div.sk-container {/* jupyter's `normalize.less` sets `[hidden] { display: none; }` but bootstrap.min.css set `[hidden] { display: none !important; }` so we also need the `!important` here to be able to override the default hidden behavior on the sphinx rendered scikit-learn.org. See: https://github.com/scikit-learn/scikit-learn/issues/21755 */display: inline-block !important;position: relative;}#sk-container-id-15 div.sk-text-repr-fallback {display: none;}</style><div id=\"sk-container-id-15\" class=\"sk-top-container\"><div class=\"sk-text-repr-fallback\"><pre>SVC(decision_function_shape=&#x27;ovo&#x27;)</pre><b>In a Jupyter environment, please rerun this cell to show the HTML representation or trust the notebook. <br />On GitHub, the HTML representation is unable to render, please try loading this page with nbviewer.org.</b></div><div class=\"sk-container\" hidden><div class=\"sk-item\"><div class=\"sk-estimator sk-toggleable\"><input class=\"sk-toggleable__control sk-hidden--visually\" id=\"sk-estimator-id-15\" type=\"checkbox\" checked><label for=\"sk-estimator-id-15\" class=\"sk-toggleable__label sk-toggleable__label-arrow\">SVC</label><div class=\"sk-toggleable__content\"><pre>SVC(decision_function_shape=&#x27;ovo&#x27;)</pre></div></div></div></div></div>"
      ],
      "text/plain": [
       "SVC(decision_function_shape='ovo')"
      ]
     },
     "execution_count": 136,
     "metadata": {},
     "output_type": "execute_result"
    }
   ],
   "source": [
    "from sklearn.svm import SVC\n",
    "\n",
    "svm_model= SVC(kernel = 'rbf', decision_function_shape='ovo')\n",
    "svm_model.fit(X_train, y_train)"
   ]
  },
  {
   "cell_type": "code",
   "execution_count": 137,
   "id": "602ed829",
   "metadata": {},
   "outputs": [],
   "source": [
    "y_pred_svm = svm_model.predict(X_test)"
   ]
  },
  {
   "cell_type": "code",
   "execution_count": 138,
   "id": "cca330f7",
   "metadata": {},
   "outputs": [
    {
     "name": "stdout",
     "output_type": "stream",
     "text": [
      "0.757328990228013\n",
      "0.7922077922077922\n"
     ]
    }
   ],
   "source": [
    "print(svm_model.score(X_train, y_train))\n",
    "print(svm_model.score(X_test, y_test))"
   ]
  },
  {
   "cell_type": "code",
   "execution_count": 139,
   "id": "7c373c0e",
   "metadata": {
    "scrolled": false
   },
   "outputs": [
    {
     "name": "stdout",
     "output_type": "stream",
     "text": [
      "Confusion Matrix: \n",
      " [[94 27]\n",
      " [ 5 28]]\n"
     ]
    }
   ],
   "source": [
    "cm = confusion_matrix(y_pred_svm, y_test)\n",
    "print('Confusion Matrix: \\n',\n",
    "     cm)"
   ]
  },
  {
   "cell_type": "code",
   "execution_count": 140,
   "id": "f744a144",
   "metadata": {},
   "outputs": [
    {
     "name": "stdout",
     "output_type": "stream",
     "text": [
      "True positives (TP) =  94\n",
      "False positives (FN)=  27\n",
      "False Negatives (FP)=  5\n",
      "True Negatives (TN)=  28\n"
     ]
    }
   ],
   "source": [
    "print('True positives (TP) = ', cm[0,0])\n",
    "print('False positives (FN)= ', cm[0, 1])\n",
    "print('False Negatives (FP)= ', cm[1, 0])\n",
    "print('True Negatives (TN)= ', cm[1, 1])"
   ]
  },
  {
   "cell_type": "markdown",
   "id": "7a49e613",
   "metadata": {},
   "source": [
    "### Improving the model"
   ]
  },
  {
   "cell_type": "markdown",
   "id": "96f828cb",
   "metadata": {},
   "source": [
    "Let's see if we can employ the following to improve the above model; <br>\n",
    "- Using GridsearchCV for hyper parameter tuning.\n",
    "- Undersampling.\n",
    "- Oversampling."
   ]
  },
  {
   "cell_type": "markdown",
   "id": "4f174e57",
   "metadata": {},
   "source": [
    "### Decision Tree Hyperparameter Tuning"
   ]
  },
  {
   "cell_type": "code",
   "execution_count": 115,
   "id": "2c1aff3a",
   "metadata": {},
   "outputs": [
    {
     "name": "stdout",
     "output_type": "stream",
     "text": [
      "Fitting 6 folds for each of 168 candidates, totalling 1008 fits\n",
      "{'criterion': 'entropy', 'max_depth': 4, 'max_features': None, 'splitter': 'random'}\n"
     ]
    }
   ],
   "source": [
    "from sklearn.model_selection import GridSearchCV\n",
    "\n",
    "params = {\n",
    "    'criterion':  ['gini', 'entropy'],\n",
    "    'max_depth':  [None, 2, 4, 6, 8, 10],\n",
    "    'max_features': [None, 'sqrt', 'log2', 0.2, 0.4, 0.6, 0.8],\n",
    "    'splitter': ['best', 'random']\n",
    "}\n",
    "\n",
    "clf = GridSearchCV(\n",
    "    estimator=DecisionTreeClassifier(),\n",
    "    param_grid=params,\n",
    "    cv=6,\n",
    "    n_jobs=5,\n",
    "    verbose=1,\n",
    ")\n",
    "\n",
    "clf.fit(X_train, y_train)\n",
    "print(clf.best_params_)"
   ]
  },
  {
   "cell_type": "markdown",
   "id": "92bf9d6b",
   "metadata": {},
   "source": [
    "Based on the above let's run the decision tree model again\n"
   ]
  },
  {
   "cell_type": "code",
   "execution_count": 116,
   "id": "1f1e98d0",
   "metadata": {},
   "outputs": [
    {
     "data": {
      "text/html": [
       "<style>#sk-container-id-11 {color: black;background-color: white;}#sk-container-id-11 pre{padding: 0;}#sk-container-id-11 div.sk-toggleable {background-color: white;}#sk-container-id-11 label.sk-toggleable__label {cursor: pointer;display: block;width: 100%;margin-bottom: 0;padding: 0.3em;box-sizing: border-box;text-align: center;}#sk-container-id-11 label.sk-toggleable__label-arrow:before {content: \"▸\";float: left;margin-right: 0.25em;color: #696969;}#sk-container-id-11 label.sk-toggleable__label-arrow:hover:before {color: black;}#sk-container-id-11 div.sk-estimator:hover label.sk-toggleable__label-arrow:before {color: black;}#sk-container-id-11 div.sk-toggleable__content {max-height: 0;max-width: 0;overflow: hidden;text-align: left;background-color: #f0f8ff;}#sk-container-id-11 div.sk-toggleable__content pre {margin: 0.2em;color: black;border-radius: 0.25em;background-color: #f0f8ff;}#sk-container-id-11 input.sk-toggleable__control:checked~div.sk-toggleable__content {max-height: 200px;max-width: 100%;overflow: auto;}#sk-container-id-11 input.sk-toggleable__control:checked~label.sk-toggleable__label-arrow:before {content: \"▾\";}#sk-container-id-11 div.sk-estimator input.sk-toggleable__control:checked~label.sk-toggleable__label {background-color: #d4ebff;}#sk-container-id-11 div.sk-label input.sk-toggleable__control:checked~label.sk-toggleable__label {background-color: #d4ebff;}#sk-container-id-11 input.sk-hidden--visually {border: 0;clip: rect(1px 1px 1px 1px);clip: rect(1px, 1px, 1px, 1px);height: 1px;margin: -1px;overflow: hidden;padding: 0;position: absolute;width: 1px;}#sk-container-id-11 div.sk-estimator {font-family: monospace;background-color: #f0f8ff;border: 1px dotted black;border-radius: 0.25em;box-sizing: border-box;margin-bottom: 0.5em;}#sk-container-id-11 div.sk-estimator:hover {background-color: #d4ebff;}#sk-container-id-11 div.sk-parallel-item::after {content: \"\";width: 100%;border-bottom: 1px solid gray;flex-grow: 1;}#sk-container-id-11 div.sk-label:hover label.sk-toggleable__label {background-color: #d4ebff;}#sk-container-id-11 div.sk-serial::before {content: \"\";position: absolute;border-left: 1px solid gray;box-sizing: border-box;top: 0;bottom: 0;left: 50%;z-index: 0;}#sk-container-id-11 div.sk-serial {display: flex;flex-direction: column;align-items: center;background-color: white;padding-right: 0.2em;padding-left: 0.2em;position: relative;}#sk-container-id-11 div.sk-item {position: relative;z-index: 1;}#sk-container-id-11 div.sk-parallel {display: flex;align-items: stretch;justify-content: center;background-color: white;position: relative;}#sk-container-id-11 div.sk-item::before, #sk-container-id-11 div.sk-parallel-item::before {content: \"\";position: absolute;border-left: 1px solid gray;box-sizing: border-box;top: 0;bottom: 0;left: 50%;z-index: -1;}#sk-container-id-11 div.sk-parallel-item {display: flex;flex-direction: column;z-index: 1;position: relative;background-color: white;}#sk-container-id-11 div.sk-parallel-item:first-child::after {align-self: flex-end;width: 50%;}#sk-container-id-11 div.sk-parallel-item:last-child::after {align-self: flex-start;width: 50%;}#sk-container-id-11 div.sk-parallel-item:only-child::after {width: 0;}#sk-container-id-11 div.sk-dashed-wrapped {border: 1px dashed gray;margin: 0 0.4em 0.5em 0.4em;box-sizing: border-box;padding-bottom: 0.4em;background-color: white;}#sk-container-id-11 div.sk-label label {font-family: monospace;font-weight: bold;display: inline-block;line-height: 1.2em;}#sk-container-id-11 div.sk-label-container {text-align: center;}#sk-container-id-11 div.sk-container {/* jupyter's `normalize.less` sets `[hidden] { display: none; }` but bootstrap.min.css set `[hidden] { display: none !important; }` so we also need the `!important` here to be able to override the default hidden behavior on the sphinx rendered scikit-learn.org. See: https://github.com/scikit-learn/scikit-learn/issues/21755 */display: inline-block !important;position: relative;}#sk-container-id-11 div.sk-text-repr-fallback {display: none;}</style><div id=\"sk-container-id-11\" class=\"sk-top-container\"><div class=\"sk-text-repr-fallback\"><pre>DecisionTreeClassifier(max_depth=4, max_features=0.8, random_state=0)</pre><b>In a Jupyter environment, please rerun this cell to show the HTML representation or trust the notebook. <br />On GitHub, the HTML representation is unable to render, please try loading this page with nbviewer.org.</b></div><div class=\"sk-container\" hidden><div class=\"sk-item\"><div class=\"sk-estimator sk-toggleable\"><input class=\"sk-toggleable__control sk-hidden--visually\" id=\"sk-estimator-id-11\" type=\"checkbox\" checked><label for=\"sk-estimator-id-11\" class=\"sk-toggleable__label sk-toggleable__label-arrow\">DecisionTreeClassifier</label><div class=\"sk-toggleable__content\"><pre>DecisionTreeClassifier(max_depth=4, max_features=0.8, random_state=0)</pre></div></div></div></div></div>"
      ],
      "text/plain": [
       "DecisionTreeClassifier(max_depth=4, max_features=0.8, random_state=0)"
      ]
     },
     "execution_count": 116,
     "metadata": {},
     "output_type": "execute_result"
    }
   ],
   "source": [
    "#import the library\n",
    "from sklearn.tree import DecisionTreeClassifier\n",
    "\n",
    "#define the model\n",
    "decision = DecisionTreeClassifier(criterion='gini', max_depth =4, splitter = 'best', random_state=0, max_features = 0.8) #random_state ensures you get the same model each time, gini is used because it is binary classification\n",
    "#max depth is how much the nodes should get expanded\n",
    "#fit the model\n",
    "decision.fit(X_train, y_train)"
   ]
  },
  {
   "cell_type": "code",
   "execution_count": 117,
   "id": "3e288d1b",
   "metadata": {},
   "outputs": [],
   "source": [
    "#now we are going to predict the test set using the X_test\n",
    "y_pred_decision = decision.predict(X_test)"
   ]
  },
  {
   "cell_type": "code",
   "execution_count": 118,
   "id": "d29f1f52",
   "metadata": {},
   "outputs": [
    {
     "name": "stdout",
     "output_type": "stream",
     "text": [
      "0.17532467532467533\n",
      "The Mean Absolute Error measures the average difference between predicted values and Actual Values\n"
     ]
    }
   ],
   "source": [
    "#we are going test the models accuracy using mean squared error because it is suited for outliers\n",
    "from sklearn.metrics import mean_absolute_error \n",
    "print(mean_absolute_error(y_test, y_pred_decision))\n",
    "print('The Mean Absolute Error measures the average difference between predicted values and Actual Values')"
   ]
  },
  {
   "cell_type": "code",
   "execution_count": 119,
   "id": "b105749e",
   "metadata": {},
   "outputs": [
    {
     "name": "stdout",
     "output_type": "stream",
     "text": [
      "The model accuracy score of the decision tree regressor 0.8246753246753247\n"
     ]
    }
   ],
   "source": [
    "from sklearn.metrics import accuracy_score\n",
    "print(f'The model accuracy score of the decision tree regressor {accuracy_score(y_test,y_pred_decision)}')"
   ]
  },
  {
   "cell_type": "markdown",
   "id": "91d66f58",
   "metadata": {},
   "source": [
    "We have now been able to increase our accuracy to 82.4%"
   ]
  },
  {
   "cell_type": "markdown",
   "id": "ab33f147",
   "metadata": {},
   "source": [
    "### Logistic Regression Hyperparameter Tuning"
   ]
  },
  {
   "cell_type": "code",
   "execution_count": 120,
   "id": "43ea3b14",
   "metadata": {},
   "outputs": [
    {
     "name": "stdout",
     "output_type": "stream",
     "text": [
      "{'class_weight': 'balanced', 'penalty': 'l1', 'solver': 'liblinear'}\n"
     ]
    }
   ],
   "source": [
    "params = {\n",
    "    'penalty': ['l1', 'l2', 'elasticnet', None],\n",
    "    'class_weight' : ['dict', 'balanced'],\n",
    "    'solver': ['lbfgs', 'liblinear', \n",
    "               'newton-cg', 'newton-cholesky', \n",
    "               'sag', 'saga']\n",
    "}\n",
    "\n",
    "clf = GridSearchCV(\n",
    "    estimator=LogisticRegression(),\n",
    "    param_grid=params,\n",
    "    cv=4,\n",
    "    n_jobs=5,\n",
    "    scoring='f1',\n",
    ")\n",
    "\n",
    "clf.fit(X_train, y_train)\n",
    "print(clf.best_params_)"
   ]
  },
  {
   "cell_type": "markdown",
   "id": "f367f5ec",
   "metadata": {},
   "source": [
    "Let's see if there would be a change in the Logistic model."
   ]
  },
  {
   "cell_type": "code",
   "execution_count": 121,
   "id": "b5830b5d",
   "metadata": {},
   "outputs": [
    {
     "data": {
      "text/html": [
       "<style>#sk-container-id-12 {color: black;background-color: white;}#sk-container-id-12 pre{padding: 0;}#sk-container-id-12 div.sk-toggleable {background-color: white;}#sk-container-id-12 label.sk-toggleable__label {cursor: pointer;display: block;width: 100%;margin-bottom: 0;padding: 0.3em;box-sizing: border-box;text-align: center;}#sk-container-id-12 label.sk-toggleable__label-arrow:before {content: \"▸\";float: left;margin-right: 0.25em;color: #696969;}#sk-container-id-12 label.sk-toggleable__label-arrow:hover:before {color: black;}#sk-container-id-12 div.sk-estimator:hover label.sk-toggleable__label-arrow:before {color: black;}#sk-container-id-12 div.sk-toggleable__content {max-height: 0;max-width: 0;overflow: hidden;text-align: left;background-color: #f0f8ff;}#sk-container-id-12 div.sk-toggleable__content pre {margin: 0.2em;color: black;border-radius: 0.25em;background-color: #f0f8ff;}#sk-container-id-12 input.sk-toggleable__control:checked~div.sk-toggleable__content {max-height: 200px;max-width: 100%;overflow: auto;}#sk-container-id-12 input.sk-toggleable__control:checked~label.sk-toggleable__label-arrow:before {content: \"▾\";}#sk-container-id-12 div.sk-estimator input.sk-toggleable__control:checked~label.sk-toggleable__label {background-color: #d4ebff;}#sk-container-id-12 div.sk-label input.sk-toggleable__control:checked~label.sk-toggleable__label {background-color: #d4ebff;}#sk-container-id-12 input.sk-hidden--visually {border: 0;clip: rect(1px 1px 1px 1px);clip: rect(1px, 1px, 1px, 1px);height: 1px;margin: -1px;overflow: hidden;padding: 0;position: absolute;width: 1px;}#sk-container-id-12 div.sk-estimator {font-family: monospace;background-color: #f0f8ff;border: 1px dotted black;border-radius: 0.25em;box-sizing: border-box;margin-bottom: 0.5em;}#sk-container-id-12 div.sk-estimator:hover {background-color: #d4ebff;}#sk-container-id-12 div.sk-parallel-item::after {content: \"\";width: 100%;border-bottom: 1px solid gray;flex-grow: 1;}#sk-container-id-12 div.sk-label:hover label.sk-toggleable__label {background-color: #d4ebff;}#sk-container-id-12 div.sk-serial::before {content: \"\";position: absolute;border-left: 1px solid gray;box-sizing: border-box;top: 0;bottom: 0;left: 50%;z-index: 0;}#sk-container-id-12 div.sk-serial {display: flex;flex-direction: column;align-items: center;background-color: white;padding-right: 0.2em;padding-left: 0.2em;position: relative;}#sk-container-id-12 div.sk-item {position: relative;z-index: 1;}#sk-container-id-12 div.sk-parallel {display: flex;align-items: stretch;justify-content: center;background-color: white;position: relative;}#sk-container-id-12 div.sk-item::before, #sk-container-id-12 div.sk-parallel-item::before {content: \"\";position: absolute;border-left: 1px solid gray;box-sizing: border-box;top: 0;bottom: 0;left: 50%;z-index: -1;}#sk-container-id-12 div.sk-parallel-item {display: flex;flex-direction: column;z-index: 1;position: relative;background-color: white;}#sk-container-id-12 div.sk-parallel-item:first-child::after {align-self: flex-end;width: 50%;}#sk-container-id-12 div.sk-parallel-item:last-child::after {align-self: flex-start;width: 50%;}#sk-container-id-12 div.sk-parallel-item:only-child::after {width: 0;}#sk-container-id-12 div.sk-dashed-wrapped {border: 1px dashed gray;margin: 0 0.4em 0.5em 0.4em;box-sizing: border-box;padding-bottom: 0.4em;background-color: white;}#sk-container-id-12 div.sk-label label {font-family: monospace;font-weight: bold;display: inline-block;line-height: 1.2em;}#sk-container-id-12 div.sk-label-container {text-align: center;}#sk-container-id-12 div.sk-container {/* jupyter's `normalize.less` sets `[hidden] { display: none; }` but bootstrap.min.css set `[hidden] { display: none !important; }` so we also need the `!important` here to be able to override the default hidden behavior on the sphinx rendered scikit-learn.org. See: https://github.com/scikit-learn/scikit-learn/issues/21755 */display: inline-block !important;position: relative;}#sk-container-id-12 div.sk-text-repr-fallback {display: none;}</style><div id=\"sk-container-id-12\" class=\"sk-top-container\"><div class=\"sk-text-repr-fallback\"><pre>LogisticRegression(class_weight=&#x27;balanced&#x27;, penalty=&#x27;l1&#x27;, random_state=0,\n",
       "                   solver=&#x27;liblinear&#x27;)</pre><b>In a Jupyter environment, please rerun this cell to show the HTML representation or trust the notebook. <br />On GitHub, the HTML representation is unable to render, please try loading this page with nbviewer.org.</b></div><div class=\"sk-container\" hidden><div class=\"sk-item\"><div class=\"sk-estimator sk-toggleable\"><input class=\"sk-toggleable__control sk-hidden--visually\" id=\"sk-estimator-id-12\" type=\"checkbox\" checked><label for=\"sk-estimator-id-12\" class=\"sk-toggleable__label sk-toggleable__label-arrow\">LogisticRegression</label><div class=\"sk-toggleable__content\"><pre>LogisticRegression(class_weight=&#x27;balanced&#x27;, penalty=&#x27;l1&#x27;, random_state=0,\n",
       "                   solver=&#x27;liblinear&#x27;)</pre></div></div></div></div></div>"
      ],
      "text/plain": [
       "LogisticRegression(class_weight='balanced', penalty='l1', random_state=0,\n",
       "                   solver='liblinear')"
      ]
     },
     "execution_count": 121,
     "metadata": {},
     "output_type": "execute_result"
    }
   ],
   "source": [
    "from sklearn.linear_model import LogisticRegression\n",
    "logreg = LogisticRegression(solver='liblinear', random_state=0, class_weight='balanced', penalty='l1')\n",
    "logreg.fit(X_train,y_train)"
   ]
  },
  {
   "cell_type": "code",
   "execution_count": 122,
   "id": "d6497556",
   "metadata": {},
   "outputs": [],
   "source": [
    "#now we are going to predict the test set using the X_test\n",
    "y_pred_logreg = logreg.predict(X_test)"
   ]
  },
  {
   "cell_type": "code",
   "execution_count": 123,
   "id": "25a425f1",
   "metadata": {},
   "outputs": [
    {
     "data": {
      "text/plain": [
       "array([0.40541349, 0.54714309, 0.75441375, 0.91368605, 0.66752621,\n",
       "       0.57408204, 0.47766231, 0.83060582, 0.73335299, 0.66762364,\n",
       "       0.37530149, 0.87719984, 0.00565439, 0.1404005 , 0.51523607,\n",
       "       0.15040686, 0.62989796, 0.52830576, 0.92698899, 0.74701375,\n",
       "       0.44604571, 0.7690387 , 0.01656791, 0.58370087, 0.87847562,\n",
       "       0.43180355, 0.67384331, 0.13111431, 0.86428676, 0.35025124,\n",
       "       0.41390215, 0.77728156, 0.90994259, 0.17771079, 0.79015517,\n",
       "       0.19584948, 0.84497975, 0.70268802, 0.82369656, 0.21016661,\n",
       "       0.66304096, 0.8592508 , 0.93529047, 0.54163046, 0.88226211,\n",
       "       0.96475038, 0.14983795, 0.08806561, 0.87946923, 0.77460241,\n",
       "       0.9263329 , 0.70171712, 0.07193209, 0.91698375, 0.12004923,\n",
       "       0.82816614, 0.49027563, 0.55362119, 0.2793657 , 0.73206269,\n",
       "       0.23931503, 0.88611319, 0.16855553, 0.64328986, 0.46121422,\n",
       "       0.82021687, 0.37758676, 0.50983973, 0.14903463, 0.22841776,\n",
       "       0.05519503, 0.13168005, 0.24799289, 0.9718185 , 0.16890338,\n",
       "       0.56586134, 0.20828855, 0.53256136, 0.81042608, 0.18511113,\n",
       "       0.18988742, 0.61833917, 0.40350694, 0.55682364, 0.57284743,\n",
       "       0.17552958, 0.23714613, 0.50029946, 0.50911425, 0.58712283,\n",
       "       0.81873531, 0.93863784, 0.59509833, 0.82642961, 0.1346108 ,\n",
       "       0.37041626, 0.5804589 , 0.64594755, 0.05901263, 0.79344869,\n",
       "       0.75503914, 0.56698545, 0.17738156, 0.63249609, 0.81992999,\n",
       "       0.86437462, 0.31616001, 0.2219933 , 0.66540421, 0.78795895,\n",
       "       0.46793701, 0.91901949, 0.3876904 , 0.70774178, 0.28352088,\n",
       "       0.89413654, 0.79723093, 0.44500492, 0.57228373, 0.43895775,\n",
       "       0.66391284, 0.05577199, 0.50313798, 0.51469561, 0.77441121,\n",
       "       0.74626668, 0.59706629, 0.43220898, 0.23160969, 0.62963148,\n",
       "       0.02108429, 0.92821402, 0.43386611, 0.48145128, 0.7796571 ,\n",
       "       0.62147571, 0.82533592, 0.1961771 , 0.76441224, 0.62338803,\n",
       "       0.02417213, 0.80783471, 0.71118952, 0.08176606, 0.17649105,\n",
       "       0.35846906, 0.91081786, 0.86668856, 0.72562484, 0.74329215,\n",
       "       0.56334108, 0.01682354, 0.27499621, 0.83551661])"
      ]
     },
     "execution_count": 123,
     "metadata": {},
     "output_type": "execute_result"
    }
   ],
   "source": [
    "# probability of getting zero for each data point, i.e , no Diabetes\n",
    "logreg.predict_proba(X_test)[:,0]"
   ]
  },
  {
   "cell_type": "code",
   "execution_count": 124,
   "id": "687252fc",
   "metadata": {},
   "outputs": [
    {
     "data": {
      "text/plain": [
       "array([0.59458651, 0.45285691, 0.24558625, 0.08631395, 0.33247379,\n",
       "       0.42591796, 0.52233769, 0.16939418, 0.26664701, 0.33237636,\n",
       "       0.62469851, 0.12280016, 0.99434561, 0.8595995 , 0.48476393,\n",
       "       0.84959314, 0.37010204, 0.47169424, 0.07301101, 0.25298625,\n",
       "       0.55395429, 0.2309613 , 0.98343209, 0.41629913, 0.12152438,\n",
       "       0.56819645, 0.32615669, 0.86888569, 0.13571324, 0.64974876,\n",
       "       0.58609785, 0.22271844, 0.09005741, 0.82228921, 0.20984483,\n",
       "       0.80415052, 0.15502025, 0.29731198, 0.17630344, 0.78983339,\n",
       "       0.33695904, 0.1407492 , 0.06470953, 0.45836954, 0.11773789,\n",
       "       0.03524962, 0.85016205, 0.91193439, 0.12053077, 0.22539759,\n",
       "       0.0736671 , 0.29828288, 0.92806791, 0.08301625, 0.87995077,\n",
       "       0.17183386, 0.50972437, 0.44637881, 0.7206343 , 0.26793731,\n",
       "       0.76068497, 0.11388681, 0.83144447, 0.35671014, 0.53878578,\n",
       "       0.17978313, 0.62241324, 0.49016027, 0.85096537, 0.77158224,\n",
       "       0.94480497, 0.86831995, 0.75200711, 0.0281815 , 0.83109662,\n",
       "       0.43413866, 0.79171145, 0.46743864, 0.18957392, 0.81488887,\n",
       "       0.81011258, 0.38166083, 0.59649306, 0.44317636, 0.42715257,\n",
       "       0.82447042, 0.76285387, 0.49970054, 0.49088575, 0.41287717,\n",
       "       0.18126469, 0.06136216, 0.40490167, 0.17357039, 0.8653892 ,\n",
       "       0.62958374, 0.4195411 , 0.35405245, 0.94098737, 0.20655131,\n",
       "       0.24496086, 0.43301455, 0.82261844, 0.36750391, 0.18007001,\n",
       "       0.13562538, 0.68383999, 0.7780067 , 0.33459579, 0.21204105,\n",
       "       0.53206299, 0.08098051, 0.6123096 , 0.29225822, 0.71647912,\n",
       "       0.10586346, 0.20276907, 0.55499508, 0.42771627, 0.56104225,\n",
       "       0.33608716, 0.94422801, 0.49686202, 0.48530439, 0.22558879,\n",
       "       0.25373332, 0.40293371, 0.56779102, 0.76839031, 0.37036852,\n",
       "       0.97891571, 0.07178598, 0.56613389, 0.51854872, 0.2203429 ,\n",
       "       0.37852429, 0.17466408, 0.8038229 , 0.23558776, 0.37661197,\n",
       "       0.97582787, 0.19216529, 0.28881048, 0.91823394, 0.82350895,\n",
       "       0.64153094, 0.08918214, 0.13331144, 0.27437516, 0.25670785,\n",
       "       0.43665892, 0.98317646, 0.72500379, 0.16448339])"
      ]
     },
     "execution_count": 124,
     "metadata": {},
     "output_type": "execute_result"
    }
   ],
   "source": [
    "# probability of getting one for each data point, i.e , Diabetes\n",
    "logreg.predict_proba(X_test)[:,1]"
   ]
  },
  {
   "cell_type": "code",
   "execution_count": 125,
   "id": "0042b1a0",
   "metadata": {},
   "outputs": [
    {
     "name": "stdout",
     "output_type": "stream",
     "text": [
      "Training set score:  0.755700325732899\n",
      "Test set score:  0.8051948051948052\n"
     ]
    }
   ],
   "source": [
    "# model accuracy metrics for logistic regression\n",
    "\n",
    "\n",
    "print('Training set score: ', logreg.score(X_train, y_train))\n",
    "\n",
    "print('Test set score: ', logreg.score(X_test, y_test))"
   ]
  },
  {
   "cell_type": "code",
   "execution_count": 126,
   "id": "49336ddb",
   "metadata": {},
   "outputs": [
    {
     "data": {
      "text/plain": [
       "0.6428571428571429"
      ]
     },
     "execution_count": 126,
     "metadata": {},
     "output_type": "execute_result"
    }
   ],
   "source": [
    "#check null accuracy \n",
    "y_test.value_counts()\n",
    "null_acuracy = 99/(len(y_test))\n",
    "null_acuracy #A model that predicts the most frequent class would be right 64% of the time."
   ]
  },
  {
   "cell_type": "code",
   "execution_count": 127,
   "id": "df452b98",
   "metadata": {},
   "outputs": [
    {
     "data": {
      "text/plain": [
       "array([[81, 18],\n",
       "       [12, 43]], dtype=int64)"
      ]
     },
     "execution_count": 127,
     "metadata": {},
     "output_type": "execute_result"
    }
   ],
   "source": [
    "from sklearn.metrics import confusion_matrix\n",
    "cm =confusion_matrix(y_test,y_pred_logreg)\n",
    "cm"
   ]
  },
  {
   "cell_type": "code",
   "execution_count": 128,
   "id": "b5afdb71",
   "metadata": {},
   "outputs": [
    {
     "name": "stdout",
     "output_type": "stream",
     "text": [
      "True positives (TP) =  81\n",
      "False positives (FP)=  18\n",
      "False Negatives (FN)=  12\n",
      "True Negatives (TN)=  43\n"
     ]
    }
   ],
   "source": [
    "print('True positives (TP) = ', cm[0,0])\n",
    "print('False positives (FP)= ', cm[0, 1])\n",
    "print('False Negatives (FN)= ', cm[1, 0])\n",
    "print('True Negatives (TN)= ', cm[1, 1])"
   ]
  },
  {
   "cell_type": "code",
   "execution_count": 129,
   "id": "1f238b7a",
   "metadata": {
    "scrolled": false
   },
   "outputs": [
    {
     "name": "stdout",
     "output_type": "stream",
     "text": [
      "              precision    recall  f1-score   support\n",
      "\n",
      "           0       0.87      0.82      0.84        99\n",
      "           1       0.70      0.78      0.74        55\n",
      "\n",
      "    accuracy                           0.81       154\n",
      "   macro avg       0.79      0.80      0.79       154\n",
      "weighted avg       0.81      0.81      0.81       154\n",
      "\n"
     ]
    }
   ],
   "source": [
    "# Classification Report\n",
    "\n",
    "from sklearn.metrics import classification_report\n",
    "\n",
    "print(classification_report(y_test, y_pred_logreg))"
   ]
  },
  {
   "cell_type": "markdown",
   "id": "5603a8b1",
   "metadata": {},
   "source": [
    "We can see an increase in accuracy score as well as f1 score."
   ]
  },
  {
   "cell_type": "markdown",
   "id": "f4730149",
   "metadata": {},
   "source": [
    "### SVM  Hyperparameter Tuning"
   ]
  },
  {
   "cell_type": "code",
   "execution_count": null,
   "id": "bd7bcae3",
   "metadata": {},
   "outputs": [],
   "source": [
    "from sklearn.model_selection import GridSearchCV\n",
    "\n",
    "params = {\n",
    "    'criterion':  ['gini', 'entropy'],\n",
    "    'max_depth':  [None, 2, 4, 6, 8, 10],\n",
    "    'max_features': [None, 'sqrt', 'log2', 0.2, 0.4, 0.6, 0.8],\n",
    "    'splitter': ['best', 'random']\n",
    "}\n",
    "\n",
    "clf = GridSearchCV(\n",
    "    estimator=DecisionTreeClassifier(),\n",
    "    param_grid=params,\n",
    "    cv=6,\n",
    "    n_jobs=5,\n",
    "    verbose=1,\n",
    ")\n",
    "\n",
    "clf.fit(X_train, y_train)\n",
    "print(clf.best_params_)"
   ]
  },
  {
   "cell_type": "markdown",
   "id": "7f7b781e",
   "metadata": {},
   "source": [
    "Questions for Ms. K <br>\n",
    "- How do we do ROC and AUC\n",
    "- how do you determine max depth for decision tree?\n",
    "- How do you make a model better?"
   ]
  }
 ],
 "metadata": {
  "kernelspec": {
   "display_name": "Python 3 (ipykernel)",
   "language": "python",
   "name": "python3"
  },
  "language_info": {
   "codemirror_mode": {
    "name": "ipython",
    "version": 3
   },
   "file_extension": ".py",
   "mimetype": "text/x-python",
   "name": "python",
   "nbconvert_exporter": "python",
   "pygments_lexer": "ipython3",
   "version": "3.9.13"
  }
 },
 "nbformat": 4,
 "nbformat_minor": 5
}
